{
 "cells": [
  {
   "cell_type": "code",
   "execution_count": 1,
   "metadata": {},
   "outputs": [],
   "source": [
    "import re"
   ]
  },
  {
   "cell_type": "code",
   "execution_count": 2,
   "metadata": {},
   "outputs": [],
   "source": [
    "class Object():\n",
    "    patchNr = 1\n",
    "    \n",
    "    def __init__(self, pos, size):\n",
    "        self.x = pos[0]\n",
    "        self.y = pos[1]\n",
    "        self.sizeX = size[0]\n",
    "        self.sizeY = size[1]\n",
    "        self.patchNr = self.__class__.patchNr\n",
    "        self.__class__.patchNr += 1\n",
    "        \n",
    "    def __str__(self):\n",
    "        return f'i am patch nr {self.patchNr}'\n",
    "            \n",
    "    def pos(self):\n",
    "        return [self.x, self.y]\n",
    "    def size(self):\n",
    "        return [self.sizeX, self.sizeY]\n",
    "        \n",
    "    def getInfo(self):\n",
    "        return {'objectnr':self.patchNr}"
   ]
  },
  {
   "cell_type": "code",
   "execution_count": 3,
   "metadata": {},
   "outputs": [],
   "source": [
    "class Screen():\n",
    "    def __init__(self, x, y):\n",
    "        self.x = x\n",
    "        self.y = y\n",
    "    def show(self, gameObjects):\n",
    "        \n",
    "        board = []\n",
    "        \n",
    "        for row in range(self.y):\n",
    "            board.append([])\n",
    "            for col in range(self.x):\n",
    "                board[row].append(0)\n",
    "        \n",
    "        \n",
    "        for item in gameObjects:\n",
    "            \n",
    "            pos = item.pos()\n",
    "            size = item.size()\n",
    "            \n",
    "            for y in range( size[0] ):\n",
    "                for x in range( size[1] ) :\n",
    "                    board[pos[0]+y][pos[1]+x] += 1\n",
    "                    \n",
    "        count = 0\n",
    "        for lines in board:            \n",
    "            for inches in lines:\n",
    "                if inches >= 2:\n",
    "                       count += 1\n",
    "        \n",
    "        print('found overlapping inches: ', count)\n",
    "        \n",
    "        return board\n",
    "        "
   ]
  },
  {
   "cell_type": "code",
   "execution_count": 4,
   "metadata": {},
   "outputs": [
    {
     "name": "stdout",
     "output_type": "stream",
     "text": [
      "found overlapping inches:  117505\n"
     ]
    }
   ],
   "source": [
    "patchObjects = []\n",
    "\n",
    "data = open('data/day3.txt', 'r')\n",
    "\n",
    "for line in data:\n",
    "    objectData = re.findall(r'\\d+', line)\n",
    "    patchObjects.append(Object((int(objectData[1]),int(objectData[2]) ),(int(objectData[3]),int(objectData[4]) )))\n",
    "    \n",
    "#test \n",
    "#for i in range(3):\n",
    "#    print(patchObjects[i].getInfo(), patchObjects[i].pos(), patchObjects[i].size())\n",
    "\n",
    "myScreen = Screen(1000, 1000)\n",
    "board = myScreen.show(patchObjects)\n",
    "    "
   ]
  },
  {
   "cell_type": "code",
   "execution_count": 5,
   "metadata": {},
   "outputs": [
    {
     "name": "stdout",
     "output_type": "stream",
     "text": [
      "{'objectnr': 1254} [760, 638]\n"
     ]
    }
   ],
   "source": [
    "for item in patchObjects:\n",
    "\n",
    "    pos = item.pos()\n",
    "    size = item.size()\n",
    "    overlapped = 0\n",
    "    \n",
    "    for y in range( size[0] ):\n",
    "        for x in range( size[1] ) :\n",
    "            if board[pos[0]+y][pos[1]+x] >= 2:\n",
    "                overlapped = 1\n",
    "    if not overlapped:\n",
    "        print(item.getInfo(), item.pos())"
   ]
  }
 ],
 "metadata": {
  "kernelspec": {
   "display_name": "Python 3",
   "language": "python",
   "name": "python3"
  },
  "language_info": {
   "codemirror_mode": {
    "name": "ipython",
    "version": 3
   },
   "file_extension": ".py",
   "mimetype": "text/x-python",
   "name": "python",
   "nbconvert_exporter": "python",
   "pygments_lexer": "ipython3",
   "version": "3.6.5"
  }
 },
 "nbformat": 4,
 "nbformat_minor": 2
}
