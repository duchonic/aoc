{
 "cells": [
  {
   "cell_type": "markdown",
   "metadata": {},
   "source": [
    "```\n",
    "--- Part Two ---\n",
    "\n",
    "Now, you just need to figure out where to position yourself so that you're actually \n",
    "teleported when the nanobots activate.\n",
    "\n",
    "To increase the probability of success, you need to find the coordinate which \n",
    "puts you in range of the largest number of nanobots. If there are multiple, \n",
    "choose one closest to your position (0,0,0, measured by manhattan distance).\n",
    "\n",
    "For example, given the following nanobot formation:\n",
    "\n",
    "pos=<10,12,12>, r=2\n",
    "pos=<12,14,12>, r=2\n",
    "pos=<16,12,12>, r=4\n",
    "pos=<14,14,14>, r=6\n",
    "pos=<50,50,50>, r=200\n",
    "pos=<10,10,10>, r=5\n",
    "\n",
    "Many coordinates are in range of some of the nanobots in this formation. However, \n",
    "only the coordinate 12,12,12 is in range of the most nanobots: it is in range \n",
    "of the first five, but is not in range of the nanobot at 10,10,10. \n",
    "(All other coordinates are in range of fewer than five nanobots.) \n",
    "This coordinate's distance from 0,0,0 is 36.\n",
    "\n",
    "Find the coordinates that are in range of the largest number of nanobots. \n",
    "What is the shortest manhattan distance between any of those points and 0,0,0?\n",
    "```\n"
   ]
  },
  {
   "cell_type": "code",
   "execution_count": 7,
   "metadata": {},
   "outputs": [],
   "source": [
    "testdata = \"\"\"pos=<0,0,0>, r=4\n",
    "pos=<1,0,0>, r=1\n",
    "pos=<4,0,0>, r=3\n",
    "pos=<0,2,0>, r=1\n",
    "pos=<0,5,0>, r=3\n",
    "pos=<0,0,3>, r=1\n",
    "pos=<-1,1,1>, r=1\n",
    "pos=<1,1,2>, r=1\n",
    "pos=<1,-3,1>, r=1\"\"\".split('\\n')\n",
    "#print(testdata)\n",
    "\n",
    "testdata = open('data/day23.data','r').read().split('\\n')\n",
    "#print(testdata)"
   ]
  },
  {
   "cell_type": "code",
   "execution_count": 2,
   "metadata": {},
   "outputs": [],
   "source": [
    "roboData = list()\n",
    "for item in testdata:\n",
    "    data = item.replace('<',' ').replace('>','').replace('r=','').replace(',',' ').replace('pos=','')\n",
    "    data = data.split()\n",
    "    for num in data:\n",
    "        num = int(num)\n",
    "    roboData.append(data)"
   ]
  },
  {
   "cell_type": "code",
   "execution_count": 3,
   "metadata": {},
   "outputs": [],
   "source": [
    "roboData.sort(key=lambda x: x[3])"
   ]
  },
  {
   "cell_type": "code",
   "execution_count": 4,
   "metadata": {},
   "outputs": [],
   "source": [
    "def checkDistance(pos1,pos2):\n",
    "    \n",
    "    def absolute(one, two):\n",
    "        return abs(int(one)-int(two))\n",
    "    dis = absolute(pos1[0],pos2[0])\n",
    "    dis += absolute(pos1[1],pos2[1])\n",
    "    dis += absolute(pos1[2],pos2[2])\n",
    "    if dis <= int(pos1[3]):\n",
    "        re = 1\n",
    "    else:\n",
    "        re = 0\n",
    "    \n",
    "    return dis, re"
   ]
  },
  {
   "cell_type": "code",
   "execution_count": 5,
   "metadata": {},
   "outputs": [
    {
     "name": "stdout",
     "output_type": "stream",
     "text": [
      "270\n"
     ]
    }
   ],
   "source": [
    "pos1 = roboData[-1]\n",
    "withinDis = 0\n",
    "for i in range(len(roboData)):\n",
    "    pos2 = roboData[i]\n",
    "    dis, re = checkDistance(pos1,pos2)\n",
    "    if re:\n",
    "        withinDis+= 1\n",
    "        #print(dis)\n",
    "        \n",
    "print(withinDis)"
   ]
  },
  {
   "cell_type": "code",
   "execution_count": 6,
   "metadata": {},
   "outputs": [
    {
     "name": "stdout",
     "output_type": "stream",
     "text": [
      "76 [-10, -10, -10]\n"
     ]
    }
   ],
   "source": [
    "resultpos = [0,0,0]\n",
    "maxfound = 0\n",
    "\n",
    "RANGEX_MIN = -10\n",
    "RANGEX_MAX =  10\n",
    "RANGEY_MIN = -10\n",
    "RANGEY_MAX =  10\n",
    "RANGEZ_MIN = -10\n",
    "RANGEZ_MAX =  10\n",
    "\n",
    "for x in range(RANGEX_MIN,RANGEX_MAX):\n",
    "    for y in range(RANGEY_MIN,RANGEY_MAX):\n",
    "        for z in range(RANGEZ_MIN,RANGEZ_MAX):\n",
    "            withinDis = 0\n",
    "            for test in range(len(roboData)):\n",
    "                #print(roboData[test])\n",
    "                dis, re = checkDistance(roboData[test], [x,y,z,0])\n",
    "                if re:\n",
    "                    withinDis += 1\n",
    "            if withinDis > maxfound:\n",
    "                maxfound = withinDis\n",
    "                resultpos = [x,y,z]\n",
    "                #print(resultpos, dis, re, maxfound)\n",
    "                \n",
    "print(maxfound, resultpos)"
   ]
  },
  {
   "cell_type": "code",
   "execution_count": null,
   "metadata": {},
   "outputs": [],
   "source": []
  }
 ],
 "metadata": {
  "kernelspec": {
   "display_name": "Python 3",
   "language": "python",
   "name": "python3"
  },
  "language_info": {
   "codemirror_mode": {
    "name": "ipython",
    "version": 3
   },
   "file_extension": ".py",
   "mimetype": "text/x-python",
   "name": "python",
   "nbconvert_exporter": "python",
   "pygments_lexer": "ipython3",
   "version": "3.7.0"
  }
 },
 "nbformat": 4,
 "nbformat_minor": 2
}
