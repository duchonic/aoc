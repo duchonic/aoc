{
 "cells": [
  {
   "cell_type": "code",
   "execution_count": 1,
   "metadata": {},
   "outputs": [],
   "source": [
    "data = open('data/day2.txt','r')\n",
    "dataDict = dict()"
   ]
  },
  {
   "cell_type": "code",
   "execution_count": 2,
   "metadata": {},
   "outputs": [],
   "source": [
    "index = 0\n",
    "for line in data:\n",
    "    dataDict[index] = line.replace('\\n','')\n",
    "    index += 1"
   ]
  },
  {
   "cell_type": "code",
   "execution_count": 3,
   "metadata": {},
   "outputs": [],
   "source": [
    "def compare(text1,text2):\n",
    "    index = 0\n",
    "    equals = 0\n",
    "    for letter in text1:\n",
    "        if letter == text2[index]:\n",
    "            equals += 1\n",
    "        index += 1\n",
    "    return equals\n",
    "        \n",
    "    \n",
    "def removeDiffChar(text1, text2):\n",
    "    index = 0\n",
    "    returntext = ''\n",
    "    for letter in text1:\n",
    "        if letter == text2[index]:\n",
    "            returntext += letter\n",
    "        index += 1\n",
    "    return returntext"
   ]
  },
  {
   "cell_type": "code",
   "execution_count": 4,
   "metadata": {},
   "outputs": [],
   "source": [
    "assert compare('123', '123') == 3\n",
    "assert removeDiffChar('123x5', '123y5') == '1235'"
   ]
  },
  {
   "cell_type": "code",
   "execution_count": 5,
   "metadata": {},
   "outputs": [
    {
     "name": "stdout",
     "output_type": "stream",
     "text": [
      "qywzphxoiseldjrntfygvdmanu 102 139 qyzphxoiseldjrntfygvdmanu\n",
      "qyszphxoiseldjrntfygvdmanu 139 102 qyzphxoiseldjrntfygvdmanu\n"
     ]
    }
   ],
   "source": [
    "for item in dataDict:\n",
    "    checkString = dataDict[item]\n",
    "    \n",
    "    for stringToCheck in dataDict:\n",
    "        if compare(checkString, dataDict[stringToCheck]) > (len(checkString)-2):\n",
    "            if item != stringToCheck:\n",
    "                print(checkString, item, stringToCheck, removeDiffChar(checkString, dataDict[stringToCheck]))"
   ]
  },
  {
   "cell_type": "code",
   "execution_count": null,
   "metadata": {},
   "outputs": [],
   "source": []
  }
 ],
 "metadata": {
  "kernelspec": {
   "display_name": "Python 3",
   "language": "python",
   "name": "python3"
  },
  "language_info": {
   "codemirror_mode": {
    "name": "ipython",
    "version": 3
   },
   "file_extension": ".py",
   "mimetype": "text/x-python",
   "name": "python",
   "nbconvert_exporter": "python",
   "pygments_lexer": "ipython3",
   "version": "3.6.7"
  }
 },
 "nbformat": 4,
 "nbformat_minor": 2
}
