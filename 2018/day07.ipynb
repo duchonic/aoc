{
 "cells": [
  {
   "cell_type": "markdown",
   "metadata": {},
   "source": [
    "```\n",
    "\n",
    "--- Day 7: The Sum of Its Parts ---\n",
    "\n",
    "You find yourself standing on a snow-covered coastline; apparently, \n",
    "you landed a little off course. The region is too hilly to see the \n",
    "North Pole from here, but you do spot some Elves that seem to be \n",
    "trying to unpack something that washed ashore. It's quite cold out, \n",
    "so you decide to risk creating a paradox by asking them for directions.\n",
    "\n",
    "\"Oh, are you the search party?\" Somehow, you can understand whatever \n",
    "Elves from the year 1018 speak; you assume it's Ancient Nordic Elvish. \n",
    "Could the device on your wrist also be a translator? \n",
    "\"Those clothes don't look very warm; take this.\" They hand you a heavy coat.\n",
    "\n",
    "\"We do need to find our way back to the North Pole, \n",
    "but we have higher priorities at the moment. You see, \n",
    "believe it or not, this box contains something that will solve all \n",
    "of Santa's transportation problems - at least, that's what it looks \n",
    "like from the pictures in the instructions.\" It doesn't seem like \n",
    "they can read whatever language it's in, but you can: \n",
    "\"Sleigh kit. Some assembly required.\"\n",
    "\n",
    "\"'Sleigh'? What a wonderful name! You must help us assemble \n",
    "this 'sleigh' at once!\" They start excitedly pulling more parts out of the box.\n",
    "\n",
    "The instructions specify a series of steps and requirements about \n",
    "which steps must be finished before others can begin (your puzzle input). \n",
    "Each step is designated by a single letter. For example, \n",
    "suppose you have the following instructions:\n",
    "\n",
    "Step C must be finished before step A can begin.\n",
    "Step C must be finished before step F can begin.\n",
    "Step A must be finished before step B can begin.\n",
    "Step A must be finished before step D can begin.\n",
    "Step B must be finished before step E can begin.\n",
    "Step D must be finished before step E can begin.\n",
    "Step F must be finished before step E can begin.\n",
    "\n",
    "Visually, these requirements look like this:\n",
    "\n",
    "\n",
    "  -->A--->B--\n",
    " /    \\      \\\n",
    "C      -->D----->E\n",
    " \\           /\n",
    "  ---->F-----\n",
    "\n",
    "Your first goal is to determine the order in which the steps \n",
    "should be completed. If more than one step is ready, \n",
    "choose the step which is first alphabetically. In this example, \n",
    "the steps would be completed as follows:\n",
    "\n",
    "    Only C is available, and so it is done first.\n",
    "    Next, both A and F are available. A is first alphabetically, so it is done next.\n",
    "    Then, even though F was available earlier, steps B and D are now also available, \n",
    "      and B is the first alphabetically of the three.\n",
    "    After that, only D and F are available. E is not available \n",
    "      because only some of its prerequisites are complete. Therefore, D is completed next.\n",
    "    F is the only choice, so it is done next.\n",
    "    Finally, E is completed.\n",
    "\n",
    "So, in this example, the correct order is CABDFE.\n",
    "\n",
    "In what order should the steps in your instructions be completed?\n",
    "\n",
    "To begin, get your puzzle input.\n",
    "```"
   ]
  },
  {
   "cell_type": "code",
   "execution_count": 28,
   "metadata": {},
   "outputs": [],
   "source": [
    "from collections import defaultdict\n",
    "\n",
    "def sumofitsparts(data):\n",
    "\n",
    "    deps = defaultdict(set)\n",
    "    \n",
    "    plan = list()\n",
    "    \n",
    "    sources = set()\n",
    "    destinations = set()\n",
    "\n",
    "    for line in data:\n",
    "        line = line.replace('Step ','').replace(' must be finished before step ','').replace(' can begin.','')\n",
    "        line = line.replace('\\n','')\n",
    "        \n",
    "        source = line[0]\n",
    "        destination = line[1]\n",
    "        plan.append([source, destination])\n",
    "        deps[source].add(destination)\n",
    "        sources.add(source)\n",
    "        destinations.add(destination)\n",
    "    \n",
    "    start = sources.difference(destinations)\n",
    "    end = destinations.difference(sources)\n",
    "    \n",
    "    print('start:', start, 'end:', end)\n",
    "    print('sources:', sources)\n",
    "    print('destinations:', destinations)\n",
    "    print('plan:', plan)\n",
    "    print('deps:', deps)\n",
    "        \n",
    "    return 1"
   ]
  },
  {
   "cell_type": "code",
   "execution_count": 29,
   "metadata": {},
   "outputs": [
    {
     "name": "stdout",
     "output_type": "stream",
     "text": [
      "start: {'C'} end: {'E'}\n",
      "sources: {'C', 'D', 'A', 'B', 'F'}\n",
      "destinations: {'E', 'D', 'A', 'B', 'F'}\n",
      "plan: [['C', 'A'], ['C', 'F'], ['A', 'B'], ['A', 'D'], ['B', 'E'], ['F', 'E'], ['D', 'E']]\n",
      "deps: defaultdict(<class 'set'>, {'C': {'A', 'F'}, 'A': {'B', 'D'}, 'B': {'E'}, 'F': {'E'}, 'D': {'E'}})\n",
      "1\n"
     ]
    },
    {
     "ename": "AssertionError",
     "evalue": "",
     "output_type": "error",
     "traceback": [
      "\u001b[0;31m---------------------------------------------------------------------------\u001b[0m",
      "\u001b[0;31mAssertionError\u001b[0m                            Traceback (most recent call last)",
      "\u001b[0;32m<ipython-input-29-d4fca5b7213c>\u001b[0m in \u001b[0;36m<module>\u001b[0;34m()\u001b[0m\n\u001b[1;32m      9\u001b[0m \u001b[0;34m\u001b[0m\u001b[0m\n\u001b[1;32m     10\u001b[0m \u001b[0mprint\u001b[0m\u001b[0;34m(\u001b[0m\u001b[0mresult\u001b[0m\u001b[0;34m)\u001b[0m\u001b[0;34m\u001b[0m\u001b[0m\n\u001b[0;32m---> 11\u001b[0;31m \u001b[0;32massert\u001b[0m \u001b[0mresult\u001b[0m \u001b[0;34m==\u001b[0m \u001b[0;34m\"CABDFE\"\u001b[0m\u001b[0;34m\u001b[0m\u001b[0m\n\u001b[0m",
      "\u001b[0;31mAssertionError\u001b[0m: "
     ]
    }
   ],
   "source": [
    "result = sumofitsparts(open('data/testdata/day07_1.data', 'r'))\n",
    "\n",
    "print(result)\n",
    "assert result == \"CABDFE\" "
   ]
  },
  {
   "cell_type": "markdown",
   "metadata": {},
   "source": [
    "```\n",
    "  -->A--->B--\n",
    " /    \\      \\\n",
    "C      -->D----->E\n",
    " \\           /\n",
    "  ---->F-----\n",
    "```"
   ]
  },
  {
   "cell_type": "code",
   "execution_count": 28,
   "metadata": {},
   "outputs": [
    {
     "name": "stdout",
     "output_type": "stream",
     "text": [
      "start: ['C', 'G'] end: ['Z']\n",
      "sour: {'C': ['A', 'F'], 'G': ['F'], 'A': ['B', 'D'], 'B': ['E'], 'D': ['E'], 'F': ['E'], 'E': ['X', 'Y'], 'X': ['Z'], 'Y': ['Z']}\n",
      "C ['A', 'F']\n",
      "G ['F']\n",
      "A ['B', 'D']\n",
      "B ['E']\n",
      "D ['E']\n",
      "F ['E']\n",
      "E ['X', 'Y']\n",
      "X ['Z']\n",
      "Y ['Z']\n",
      "dest: {'A': ['C'], 'F': ['C', 'G'], 'B': ['A'], 'D': ['A'], 'E': ['B', 'D', 'F'], 'X': ['E'], 'Y': ['E'], 'Z': ['X', 'Y']}\n",
      "A ['C']\n",
      "F ['C', 'G']\n",
      "B ['A']\n",
      "D ['A']\n",
      "E ['B', 'D', 'F']\n",
      "X ['E']\n",
      "Y ['E']\n",
      "Z ['X', 'Y']\n",
      "1\n"
     ]
    },
    {
     "ename": "AssertionError",
     "evalue": "",
     "output_type": "error",
     "traceback": [
      "\u001b[0;31m---------------------------------------------------------------------------\u001b[0m",
      "\u001b[0;31mAssertionError\u001b[0m                            Traceback (most recent call last)",
      "\u001b[0;32m<ipython-input-28-6babc6a5169f>\u001b[0m in \u001b[0;36m<module>\u001b[0;34m()\u001b[0m\n\u001b[1;32m      2\u001b[0m \u001b[0;34m\u001b[0m\u001b[0m\n\u001b[1;32m      3\u001b[0m \u001b[0mprint\u001b[0m\u001b[0;34m(\u001b[0m\u001b[0mresult\u001b[0m\u001b[0;34m)\u001b[0m\u001b[0;34m\u001b[0m\u001b[0m\n\u001b[0;32m----> 4\u001b[0;31m \u001b[0;32massert\u001b[0m \u001b[0mresult\u001b[0m \u001b[0;34m==\u001b[0m \u001b[0;34m\"CABDGFEXYZ\"\u001b[0m\u001b[0;34m\u001b[0m\u001b[0m\n\u001b[0m",
      "\u001b[0;31mAssertionError\u001b[0m: "
     ]
    }
   ],
   "source": [
    "result = sumofitsparts(open('data/testdata/day07_2.data', 'r'))\n",
    "\n",
    "\n",
    "#DESTINATIONS\n",
    "\n",
    "#ZYEFG\n",
    "#ZXEDAC\n",
    "#BAC\n",
    "\n",
    "print(result)\n",
    "assert result == \"CABDGFEXYZ\" "
   ]
  },
  {
   "cell_type": "markdown",
   "metadata": {},
   "source": [
    "```\n",
    "  -->A--->B--      -->X--\n",
    " /    \\      \\    /      \\\n",
    "C      -->D----->E        -->Z\n",
    " \\           /   \\       /\n",
    "  ---->F-----     -->Y---\n",
    " /\n",
    "G\n",
    "```"
   ]
  },
  {
   "cell_type": "code",
   "execution_count": 24,
   "metadata": {},
   "outputs": [
    {
     "name": "stdout",
     "output_type": "stream",
     "text": [
      "start: ['P', 'H', 'M', 'W'] end: ['J']\n",
      "sour: {'P': ['O', 'Y'], 'H': ['X', 'E', 'Q', 'L', 'G', 'Z', 'N', 'U'], 'M': ['Q', 'O'], 'E': ['U', 'D', 'A', 'V', 'J'], 'G': ['O', 'N', 'F', 'I', 'Q', 'C', 'B'], 'W': ['F', 'Y', 'X', 'B', 'J', 'V'], 'O': ['F', 'L', 'A', 'R', 'J', 'B'], 'B': ['X', 'C', 'Y', 'F', 'V', 'Q'], 'F': ['C', 'J', 'V', 'Z'], 'A': ['L', 'C', 'N', 'T', 'X'], 'C': ['D', 'R', 'K', 'I', 'S', 'N'], 'D': ['Y', 'I'], 'V': ['R', 'S', 'X', 'Q'], 'I': ['Y', 'T', 'U', 'S'], 'X': ['K', 'S', 'L', 'R', 'N', 'Z'], 'T': ['S', 'J', 'K'], 'Y': ['J', 'K', 'U', 'Z', 'L'], 'Z': ['R', 'J', 'U', 'K'], 'R': ['K', 'N'], 'K': ['N', 'Q'], 'U': ['N', 'Q', 'J'], 'Q': ['N', 'J', 'S'], 'N': ['J', 'S', 'L'], 'S': ['J', 'L'], 'L': ['J']}\n",
      "dest: {'O': ['P', 'G', 'M'], 'X': ['H', 'B', 'W', 'A', 'V'], 'Q': ['M', 'U', 'H', 'K', 'V', 'G', 'B'], 'U': ['E', 'Y', 'Z', 'I', 'H'], 'F': ['W', 'O', 'B', 'G'], 'C': ['F', 'A', 'B', 'G'], 'L': ['A', 'S', 'O', 'H', 'X', 'N', 'Y'], 'D': ['C', 'E'], 'Y': ['D', 'I', 'B', 'W', 'P'], 'R': ['V', 'Z', 'C', 'O', 'X'], 'K': ['X', 'R', 'Y', 'C', 'Z', 'T'], 'S': ['T', 'X', 'Q', 'N', 'V', 'C', 'I'], 'J': ['Y', 'N', 'S', 'L', 'T', 'F', 'Q', 'Z', 'W', 'E', 'O', 'U'], 'N': ['K', 'U', 'Q', 'G', 'A', 'C', 'H', 'X', 'R'], 'E': ['H'], 'T': ['A', 'I'], 'V': ['B', 'F', 'E', 'W'], 'A': ['O', 'E'], 'I': ['C', 'G', 'D'], 'Z': ['F', 'Y', 'H', 'X'], 'B': ['W', 'G', 'O'], 'G': ['H']}\n",
      "1\n"
     ]
    }
   ],
   "source": [
    "result = sumofitsparts(open('data/day07.data', 'r'))\n",
    "\n",
    "print(result) "
   ]
  },
  {
   "cell_type": "code",
   "execution_count": null,
   "metadata": {},
   "outputs": [],
   "source": []
  }
 ],
 "metadata": {
  "kernelspec": {
   "display_name": "Python 3",
   "language": "python",
   "name": "python3"
  },
  "language_info": {
   "codemirror_mode": {
    "name": "ipython",
    "version": 3
   },
   "file_extension": ".py",
   "mimetype": "text/x-python",
   "name": "python",
   "nbconvert_exporter": "python",
   "pygments_lexer": "ipython3",
   "version": "3.7.0"
  }
 },
 "nbformat": 4,
 "nbformat_minor": 2
}
