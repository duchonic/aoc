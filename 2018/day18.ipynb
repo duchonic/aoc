{
 "cells": [
  {
   "cell_type": "markdown",
   "metadata": {},
   "source": [
    "```\n",
    "An open acre will become filled with trees if three or more adjacent acres contained trees. \n",
    "Otherwise, nothing happens.\n",
    "\n",
    "An acre filled with trees will become a lumberyard if three or more adjacent acres were lumberyards. \n",
    "Otherwise, nothing happens.\n",
    "\n",
    "An acre containing a lumberyard will remain a lumberyard if it was adjacent to at least \n",
    "one other lumberyard and at least one acre containing trees. Otherwise, it becomes open.\n",
    "```"
   ]
  },
  {
   "cell_type": "code",
   "execution_count": 1,
   "metadata": {},
   "outputs": [],
   "source": [
    "import matplotlib.pyplot as plt\n",
    "\n",
    "data = open('data/day18.data','r').read().split('\\n')"
   ]
  },
  {
   "cell_type": "code",
   "execution_count": 2,
   "metadata": {},
   "outputs": [
    {
     "name": "stdout",
     "output_type": "stream",
     "text": [
      "ground:  .\n",
      "trees:   |\n",
      "lumbery: #\n"
     ]
    }
   ],
   "source": [
    "GROUND = '.'\n",
    "TREE  = '|'\n",
    "LUMBERYARD = '#'\n",
    "\n",
    "print('ground: ', GROUND)\n",
    "print('trees:  ', TREE)\n",
    "print('lumbery:', LUMBERYARD)"
   ]
  },
  {
   "cell_type": "code",
   "execution_count": 3,
   "metadata": {},
   "outputs": [],
   "source": [
    "TREE_FILTER =  [ [' ', TREE, ' ' ] , [TREE,' ',TREE] , [' ',TREE,' '] ]\n",
    "LUMBER_FILTER = [ [' ', LUMBERYARD, ' '] , [LUMBERYARD,' ',LUMBERYARD] , [' ', LUMBERYARD, ' ']]"
   ]
  },
  {
   "cell_type": "code",
   "execution_count": 4,
   "metadata": {},
   "outputs": [
    {
     "name": "stdout",
     "output_type": "stream",
     "text": [
      "if ground and three trees around: . -> |\n",
      "[' ', '|', ' ']\n",
      "['|', ' ', '|']\n",
      "[' ', '|', ' ']\n"
     ]
    }
   ],
   "source": [
    "print('if ground and three trees around:', GROUND, '->', TREE)\n",
    "for line in TREE_FILTER:\n",
    "    print(line)"
   ]
  },
  {
   "cell_type": "code",
   "execution_count": 5,
   "metadata": {},
   "outputs": [
    {
     "name": "stdout",
     "output_type": "stream",
     "text": [
      "if tree and three lubers around: | ->  #\n",
      "[' ', '#', ' ']\n",
      "['#', ' ', '#']\n",
      "[' ', '#', ' ']\n"
     ]
    }
   ],
   "source": [
    "print('if tree and three lubers around:', TREE, '-> ', LUMBERYARD)\n",
    "for line in LUMBER_FILTER:\n",
    "    print(line)"
   ]
  },
  {
   "cell_type": "code",
   "execution_count": 6,
   "metadata": {},
   "outputs": [
    {
     "name": "stdout",
     "output_type": "stream",
     "text": [
      "a lumberyard remains a lumberyard if there is at least one lumberyard and at least one tree adjacent # -> .\n"
     ]
    }
   ],
   "source": [
    "print('a lumberyard remains a lumberyard if there is at least one lumberyard and at least one tree adjacent', LUMBERYARD, '->', GROUND)"
   ]
  },
  {
   "cell_type": "code",
   "execution_count": 7,
   "metadata": {},
   "outputs": [
    {
     "name": "stdout",
     "output_type": "stream",
     "text": [
      "52\n",
      "0000000000000000000000000000000000000000000000000000 52\n",
      "0#.|#||..#......##.#||..||....|.#.|.#...#.|..|||.|.0 52\n",
      "0.#..#||..#...##|.|##|..#|..##..#.|...|..|.|##.....0 52\n",
      "0.#|..#..|||.|.|...|..##|.|...|.......|..#.|.#.|...0 52\n",
      "0|....##..#|.........||#|.|.#....#.|.#.#|......#|.#0 52\n",
      "0|.#.|....|.|.#..##|..|...##...|....|.|..##..|.#.#|0 52\n",
      "0...|.|...|....|###.....|.##.#...#........|........0 52\n",
      "0||..||.#|.|.#.|...#....#.#..|#|#.###.|.|...|...|#.0 52\n",
      "0|..|..#..#|....#|...##...#.||..#..#.|.|...#...|.|#0 52\n",
      "0..#...|....|..|.|##...#.#.|#..#.|...#.#..#..#.#.|.0 52\n",
      "0|#.|##.#....#.|.|||#.|#...#|.|#|#.###....|..|.|...0 52\n",
      "0..||#..#..#.|.#...#.#..|.|...|.##|..|...#||....|..0 52\n",
      "0||.|......|.#...##|..#.|.....##|.#..#.||...|.#|.|.0 52\n",
      "0#...|....|..#.....|.#....||#||..|...#||........|#.0 52\n",
      "0|.|....#...#|..#.....#..|..||#..|...#..|...#|.#...0 52\n",
      "0..#|.#.##||#|.#...|...|...#.#||.....#|.|.|.|#|.|..0 52\n",
      "0|..|#..|#...#..|#.|.#..|.#.#|...|.......##.|..##..0 52\n",
      "0##..#|.#||......#...|..#.|.|..#.#...|...........|.0 52\n",
      "0.#....#.|.#...|.#..|.###...|...##........###..|#.#0 52\n",
      "0#......#||#..#..|..#..#|.#.|...||##..|.#.|###.##..0 52\n",
      "0|#.|#......|...#..|#.#|.|.|.##.|#.|........#....#.0 52\n",
      "0#.|.#.|..#..||...|..|#.|..|#|.#|...||.|...#||#|.|.0 52\n",
      "0....#|..|...|##.#...#.||.|...|..#|#.......##...#..0 52\n",
      "0..#..#..|..|...|.|#..|...|#...|..#..|.||.##.###...0 52\n",
      "0.#...###...|#|....#|||..##......#|..#.#|..|#|.#|..0 52\n",
      "0.||.|#....###|.#..##..|###.|...|.....#..|..#......0 52\n",
      "0#.......#...||##..#...#..|..#...##.|#..|.|.#|.#...0 52\n",
      "0|.....#|#....#...#.#.....|#....|#|#|##|#||....|.|#0 52\n",
      "0......#|..#...#.|.....|.|...|.|#.|..|#.#.#.|..#...0 52\n",
      "0|####......#.|.....|.|.....#..#.....|#.#|...#..#.|0 52\n",
      "0||.............|....|||..#|#...##..#|.#.#|.#.|.#.|0 52\n",
      "0..|.....#|.###..#|..#..||...|..|#|..|.||...#.|....0 52\n",
      "0.####..#...#|.##..|#.||.#|#........|.|#|...#..|...0 52\n",
      "0#.##.....#|...|...#.|###..|#|.....#...|..|.|#|.|.#0 52\n",
      "0|.|##.|..|..#|#......#|#......#....#|||#...|#.#.#.0 52\n",
      "0........|.|.#.|#...#.#.......|.|.#|...|#.......|#.0 52\n",
      "0...#.##...#.###|#....||.|...#......|#...#.#...|.#.0 52\n",
      "0|...|#..|.||...#.||.|##....#.##|..|.||.....#||....0 52\n",
      "0#||..|.|......|...|||.#.#.#....|#...|#|.|...|.#..|0 52\n",
      "0#.##.#....#|.|.|#...|..|####...#...|#...|....#....0 52\n",
      "0#|..|||#|....|#|....||....#..#...|||#|.....#...#..0 52\n",
      "0#|.|....||.#...#|.#.|....|...|..|#|.#.#.||..||.##|0 52\n",
      "0|#.|.#...#|#.|...#.|.|..||.|.|..#.#||....#|.|##|..0 52\n",
      "0....##|||#.#....#.##|.#.#|#|#.##....#|.....|..|...0 52\n",
      "0#.|.....|.||.|.#|.#.#|#..##|.#|.##.#.#...#||||#...0 52\n",
      "0.#|..||#...#|.#...|.#|.|.###...|.#....||.|...#..||0 52\n",
      "0.......#...#...##|#....#.||#.....|.#..|..||||.....0 52\n",
      "0.......#|..#......|.##..##..#.|.|||.|..|.##|#|#|#.0 52\n",
      "0...#............#.##...|......#.||#..|.......##||.0 52\n",
      "0.##||..#|##.....|||....|.......|.#.|.|.|...|..|..|0 52\n",
      "0..#.|.#..#.#....#..#.|..||....#......##.|.#..#..#.0 52\n",
      "0000000000000000000000000000000000000000000000000000 52\n"
     ]
    }
   ],
   "source": [
    "print(len(data))\n",
    "for line in data:\n",
    "    print(line, len(line))"
   ]
  },
  {
   "cell_type": "code",
   "execution_count": 8,
   "metadata": {},
   "outputs": [],
   "source": [
    "def checkAdjacent(data, sort):\n",
    "    ret = []\n",
    "    ret.clear()\n",
    "    for y in range(52):\n",
    "        ret.append([])\n",
    "    for y in range(52):\n",
    "        ret[y] = []\n",
    "        for x in range(52):\n",
    "            sortFound = 0\n",
    "            try:\n",
    "                if data[y-1][x] == sort:\n",
    "                    sortFound += 1\n",
    "                if data[y+1][x] == sort:\n",
    "                    sortFound += 1\n",
    "                if data[y][x-1] == sort:\n",
    "                    sortFound += 1\n",
    "                if data[y][x+1] == sort:\n",
    "                    sortFound += 1\n",
    "                if data[y-1][x-1] == sort:\n",
    "                    sortFound += 1\n",
    "                if data[y+1][x+1] == sort:\n",
    "                    sortFound += 1\n",
    "                if data[y+1][x-1] == sort:\n",
    "                    sortFound += 1\n",
    "                if data[y-1][x+1] == sort:\n",
    "                    sortFound += 1\n",
    "            except:\n",
    "                pass\n",
    "            if sortFound >= 3:\n",
    "                ret[y].append(sort)\n",
    "            else:\n",
    "                ret[y].append('.')\n",
    "    return ret"
   ]
  },
  {
   "cell_type": "code",
   "execution_count": 9,
   "metadata": {},
   "outputs": [],
   "source": [
    "def checkLumberYard(data):\n",
    "    ret = []\n",
    "    ret.clear()\n",
    "    for y in range(52):\n",
    "        ret.append([])\n",
    "        \n",
    "    for y in range(52):\n",
    "        ret[y] = []\n",
    "        for x in range(52):\n",
    "            treesfound = 0\n",
    "            lumberfound = 0\n",
    "            try:\n",
    "                if data[y-1][x] == TREE:\n",
    "                    treesfound += 1\n",
    "                if data[y+1][x] == TREE:\n",
    "                    treesfound += 1\n",
    "                if data[y][x-1] == TREE:\n",
    "                    treesfound += 1\n",
    "                if data[y][x+1] == TREE:\n",
    "                    treesfound += 1\n",
    "                if data[y-1][x-1] == TREE:\n",
    "                    treesfound += 1\n",
    "                if data[y+1][x+1] == TREE:\n",
    "                    treesfound += 1\n",
    "                if data[y+1][x-1] == TREE:\n",
    "                    treesfound += 1\n",
    "                if data[y-1][x+1] == TREE:\n",
    "                    treesfound += 1\n",
    "                \n",
    "                if data[y-1][x] == LUMBERYARD:\n",
    "                    lumberfound += 1\n",
    "                if data[y+1][x] == LUMBERYARD:\n",
    "                    lumberfound += 1\n",
    "                if data[y][x-1] == LUMBERYARD:\n",
    "                    lumberfound += 1\n",
    "                if data[y][x+1] == LUMBERYARD:\n",
    "                    lumberfound += 1   \n",
    "                if data[y-1][x-1] == LUMBERYARD:\n",
    "                    lumberfound += 1\n",
    "                if data[y+1][x+1] == LUMBERYARD:\n",
    "                    lumberfound += 1\n",
    "                if data[y+1][x-1] == LUMBERYARD:\n",
    "                    lumberfound += 1\n",
    "                if data[y-1][x+1] == LUMBERYARD:\n",
    "                    lumberfound += 1   \n",
    "            except:\n",
    "                pass\n",
    "            if treesfound >= 1 and lumberfound >= 1:\n",
    "                ret[y].append('#')\n",
    "            else:\n",
    "                ret[y].append('.')\n",
    "    return ret"
   ]
  },
  {
   "cell_type": "code",
   "execution_count": 10,
   "metadata": {},
   "outputs": [],
   "source": [
    "def printBoard(data):\n",
    "    wooded = 0\n",
    "    lumbered = 0\n",
    "    for line in data:\n",
    "        wooded += line.count(TREE)\n",
    "        lumbered += line.count(LUMBERYARD)\n",
    "        print(\"\".join(str(x) for x in line) )  "
   ]
  },
  {
   "cell_type": "code",
   "execution_count": 11,
   "metadata": {},
   "outputs": [],
   "source": [
    "def calcResource(data):\n",
    "    wooded = 0\n",
    "    lumbered = 0\n",
    "    for line in data:\n",
    "        wooded += line.count(TREE)\n",
    "        lumbered += line.count(LUMBERYARD)\n",
    "    return wooded * lumbered"
   ]
  },
  {
   "cell_type": "code",
   "execution_count": 12,
   "metadata": {},
   "outputs": [],
   "source": [
    "dataX = list()\n",
    "dataY = list()\n",
    "\n",
    "for i in range(1000):\n",
    "    \n",
    "    trees = checkAdjacent(data, TREE)\n",
    "    stayLumber = checkLumberYard(data)\n",
    "    lumber = checkAdjacent(data, LUMBERYARD)\n",
    "\n",
    "    total  = []\n",
    "    for y in range(52):\n",
    "        total.append([])\n",
    "    for y in range(52):\n",
    "        total[y] = []\n",
    "        for x in range(52):\n",
    "            if lumber[y][x] != GROUND and data[y][x] == TREE:\n",
    "                total[y].append(LUMBERYARD)\n",
    "            elif trees[y][x] != GROUND and data[y][x] == GROUND:\n",
    "                total[y].append(TREE)\n",
    "            else:\n",
    "                if data[y][x] == LUMBERYARD and stayLumber[y][x] != LUMBERYARD:\n",
    "                    total[y].append(GROUND)\n",
    "                else:                           \n",
    "                    total[y].append(data[y][x])\n",
    "\n",
    "    data = list(total)\n",
    "    dataX.append(i)\n",
    "    dataY.append(calcResource(data))"
   ]
  },
  {
   "cell_type": "code",
   "execution_count": 13,
   "metadata": {},
   "outputs": [
    {
     "name": "stdout",
     "output_type": "stream",
     "text": [
      "[193556, 191100, 193192, 192508, 194622, 193844, 194948, 193522, 195546, 196578, 199924, 202520, 202335, 205920, 211636, 215604, 221964, 225400, 229120, 227484, 228513, 227601, 227180, 221301, 215715, 204276, 199044, 195305]\n"
     ]
    },
    {
     "data": {
      "text/plain": [
       "[<matplotlib.lines.Line2D at 0x7f5e830a7048>]"
      ]
     },
     "execution_count": 13,
     "metadata": {},
     "output_type": "execute_result"
    },
    {
     "data": {
      "image/png": "[encoded data removed]",
      "text/plain": [
       "<Figure size 432x288 with 1 Axes>"
      ]
     },
     "metadata": {
      "needs_background": "light"
     },
     "output_type": "display_data"
    }
   ],
   "source": [
    "pattern = dataY[-28:]\n",
    "print(pattern)\n",
    "plt.plot(dataX[-28:], pattern)"
   ]
  },
  {
   "cell_type": "code",
   "execution_count": 14,
   "metadata": {},
   "outputs": [],
   "source": [
    "stepsLeft = 1000000000 - 1000 - 1"
   ]
  },
  {
   "cell_type": "code",
   "execution_count": 15,
   "metadata": {},
   "outputs": [
    {
     "name": "stdout",
     "output_type": "stream",
     "text": [
      "999998999\n"
     ]
    }
   ],
   "source": [
    "print(stepsLeft)"
   ]
  },
  {
   "cell_type": "code",
   "execution_count": 16,
   "metadata": {},
   "outputs": [],
   "source": [
    "resultIndex = stepsLeft%28"
   ]
  },
  {
   "cell_type": "code",
   "execution_count": 17,
   "metadata": {},
   "outputs": [
    {
     "name": "stdout",
     "output_type": "stream",
     "text": [
      "27 result is: 195305\n"
     ]
    }
   ],
   "source": [
    "print(resultIndex, 'result is:', pattern[resultIndex])"
   ]
  }
 ],
 "metadata": {
  "kernelspec": {
   "display_name": "Python 3",
   "language": "python",
   "name": "python3"
  },
  "language_info": {
   "codemirror_mode": {
    "name": "ipython",
    "version": 3
   },
   "file_extension": ".py",
   "mimetype": "text/x-python",
   "name": "python",
   "nbconvert_exporter": "python",
   "pygments_lexer": "ipython3",
   "version": "3.7.0"
  }
 },
 "nbformat": 4,
 "nbformat_minor": 2
}
