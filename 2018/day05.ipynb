{
 "cells": [
  {
   "cell_type": "markdown",
   "metadata": {},
   "source": [
    "```\n",
    "--- Day 5: Alchemical Reduction ---\n",
    "You've managed to sneak in to the prototype suit manufacturing lab. The Elves are making decent progress, but are still struggling with the suit's size reduction capabilities.\n",
    "\n",
    "While the very latest in 1518 alchemical technology might have solved their problem eventually, you can do better. You scan the chemical composition of the suit's material and discover that it is formed by extremely long polymers (one of which is available as your puzzle input).\n",
    "\n",
    "The polymer is formed by smaller units which, when triggered, react with each other such that two adjacent units of the same type and opposite polarity are destroyed. Units' types are represented by letters; units' polarity is represented by capitalization. For instance, r and R are units with the same type but opposite polarity, whereas r and s are entirely different types and do not react.\n",
    "\n",
    "For example:\n",
    "\n",
    "In aA, a and A react, leaving nothing behind.\n",
    "In abBA, bB destroys itself, leaving aA. As above, this then destroys itself, leaving nothing.\n",
    "In abAB, no two adjacent units are of the same type, and so nothing happens.\n",
    "In aabAAB, even though aa and AA are of the same type, their polarities match, and so nothing happens.\n",
    "Now, consider a larger example, dabAcCaCBAcCcaDA:\n",
    "\n",
    "dabAcCaCBAcCcaDA  The first 'cC' is removed.\n",
    "dabAaCBAcCcaDA    This creates 'Aa', which is removed.\n",
    "dabCBAcCcaDA      Either 'cC' or 'Cc' are removed (the result is the same).\n",
    "dabCBAcaDA        No further actions can be taken.\n",
    "After all possible reactions, the resulting polymer contains 10 units.\n",
    "\n",
    "How many units remain after fully reacting the polymer you scanned? (Note: in this puzzle and others, the input is large; if you copy/paste your input, make sure you get the whole thing.)\n",
    "```"
   ]
  },
  {
   "cell_type": "code",
   "execution_count": 3,
   "metadata": {},
   "outputs": [],
   "source": [
    "def reducer(data):\n",
    "    result = \"\"\n",
    "    lastChar = \"\"\n",
    "    \n",
    "    for letter in data:\n",
    "        result += letter\n",
    "        \n",
    "        if (lastChar.islower() and letter.isupper()) or (lastChar.isupper() and letter.islower()):\n",
    "            if lastChar.lower() == letter.lower():                 \n",
    "                #clear the last two identical units!\n",
    "                result = result[:-2]\n",
    "            \n",
    "            try:\n",
    "                #check if there are some units in front of actual unit\n",
    "                lastChar = result[-1]\n",
    "            except:\n",
    "                #no units in front of actual unit, fill lastChar with undenfined unit\n",
    "                lastChar = \"\"\n",
    "        else:\n",
    "            lastChar = letter\n",
    "\n",
    "    open('data/day5_out.txt','w').write(result)\n",
    "    return result"
   ]
  },
  {
   "cell_type": "code",
   "execution_count": 4,
   "metadata": {
    "scrolled": true
   },
   "outputs": [
    {
     "data": {
      "text/plain": [
       "9154"
      ]
     },
     "execution_count": 4,
     "metadata": {},
     "output_type": "execute_result"
    }
   ],
   "source": [
    "testData = \"rRsFVvfsMcCvkPZz\"\n",
    "testDataResult = \"ssMvkP\" \n",
    "assert reducer(testData) == testDataResult\n",
    "\n",
    "testData = \"dabAcCaCBAcCcaDA\"\n",
    "testDataResult = \"dabCBAcaDA\"\n",
    "assert reducer(testData) == testDataResult\n",
    "\n",
    "len(reducer(open('data/day5.txt','r').read()))"
   ]
  },
  {
   "cell_type": "code",
   "execution_count": 5,
   "metadata": {},
   "outputs": [],
   "source": [
    "improvedPoli = dict()\n",
    "\n",
    "for i in ['a','b','c','d','e','f','g','h','i','j','k','l','m','n','o','p','q','r','s','t','u','v','w','x','y','z']:\n",
    "    improvedPoli[len(reducer(open('data/day5.txt', 'r').read().replace(i,'').replace(i.upper(),'')))] = i"
   ]
  },
  {
   "cell_type": "code",
   "execution_count": 6,
   "metadata": {},
   "outputs": [
    {
     "name": "stdout",
     "output_type": "stream",
     "text": [
      "4556 e\n",
      "8742 x\n",
      "8746 v\n",
      "8756 z\n",
      "8766 q\n",
      "8768 m\n",
      "8770 l\n",
      "8772 c\n",
      "8774 k\n",
      "8776 n\n",
      "8780 w\n",
      "8798 u\n",
      "8802 r\n",
      "8806 b\n",
      "8808 s\n",
      "8844 a\n",
      "8854 y\n"
     ]
    }
   ],
   "source": [
    "for item in sorted(improvedPoli):\n",
    "    print(item, improvedPoli[item])"
   ]
  }
 ],
 "metadata": {
  "kernelspec": {
   "display_name": "Python 3",
   "language": "python",
   "name": "python3"
  },
  "language_info": {
   "codemirror_mode": {
    "name": "ipython",
    "version": 3
   },
   "file_extension": ".py",
   "mimetype": "text/x-python",
   "name": "python",
   "nbconvert_exporter": "python",
   "pygments_lexer": "ipython3",
   "version": "3.6.5"
  }
 },
 "nbformat": 4,
 "nbformat_minor": 2
}
