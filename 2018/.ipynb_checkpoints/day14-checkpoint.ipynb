{
 "cells": [
  {
   "cell_type": "markdown",
   "metadata": {},
   "source": [
    "```\n",
    "--- Day 14: Chocolate Charts ---\n",
    "You finally have a chance to look at all of the produce moving around. Chocolate, \n",
    "cinnamon, mint, chili peppers, nutmeg, vanilla... the Elves must be growing these \n",
    "plants to make hot chocolate! As you realize this, you hear a conversation in the \n",
    "distance. When you go to investigate, you discover two Elves in what appears to \n",
    "be a makeshift underground kitchen/laboratory.\n",
    "\n",
    "The Elves are trying to come up with the ultimate hot chocolate recipe; they're \n",
    "even maintaining a scoreboard which tracks the quality score (0-9) of each recipe.\n",
    "\n",
    "Only two recipes are on the board: the first recipe got a score of 3, the second, 7. \n",
    "Each of the two Elves has a current recipe: the first Elf starts with the first recipe,\n",
    "and the second Elf starts with the second recipe.\n",
    "\n",
    "To create new recipes, the two Elves combine their current recipes. \n",
    "This creates new recipes from the digits of the sum of the current recipes' scores.\n",
    "With the current recipes' scores of 3 and 7, their sum is 10, and so two new \n",
    "recipes would be created: the first with score 1 and the second with score 0. \n",
    "If the current recipes' scores were 2 and 3, the sum, 5, would only create one \n",
    "recipe (with a score of 5) with its single digit.\n",
    "\n",
    "The new recipes are added to the end of the scoreboard in the order they are created. \n",
    "So, after the first round, the scoreboard is 3, 7, 1, 0.\n",
    "\n",
    "After all new recipes are added to the scoreboard, each Elf picks a new current recipe. \n",
    "To do this, the Elf steps forward through the scoreboard a number of recipes \n",
    "equal to 1 plus the score of their current recipe. So, after the first round, \n",
    "the first Elf moves forward 1 + 3 = 4 times, while the second Elf \n",
    "moves forward 1 + 7 = 8 times. If they run out of recipes, they loop back \n",
    "around to the beginning. After the first round, both Elves happen to loop around \n",
    "until they land on the same recipe that they had in the beginning; in general, \n",
    "they will move to different recipes.\n",
    "\n",
    "Drawing the first Elf as parentheses and the second Elf as square brackets, \n",
    "they continue this process:\n",
    "\n",
    "(3)[7]\n",
    "(3)[7] 1  0 \n",
    " 3  7  1 [0](1) 0 \n",
    " 3  7  1  0 [1] 0 (1)\n",
    "(3) 7  1  0  1  0 [1] 2 \n",
    " 3  7  1  0 (1) 0  1  2 [4]\n",
    " 3  7  1 [0] 1  0 (1) 2  4  5 \n",
    " 3  7  1  0 [1] 0  1  2 (4) 5  1 \n",
    " 3 (7) 1  0  1  0 [1] 2  4  5  1  5 \n",
    " 3  7  1  0  1  0  1  2 [4](5) 1  5  8 \n",
    " 3 (7) 1  0  1  0  1  2  4  5  1  5  8 [9]\n",
    " 3  7  1  0  1  0  1 [2] 4 (5) 1  5  8  9  1  6 \n",
    " 3  7  1  0  1  0  1  2  4  5 [1] 5  8  9  1 (6) 7 \n",
    " 3  7  1  0 (1) 0  1  2  4  5  1  5 [8] 9  1  6  7  7 \n",
    " 3  7 [1] 0  1  0 (1) 2  4  5  1  5  8  9  1  6  7  7  9 \n",
    " 3  7  1  0 [1] 0  1  2 (4) 5  1  5  8  9  1  6  7  7  9  2 \n",
    "The Elves think their skill will improve after making a few recipes (your puzzle input). \n",
    "However, that could take ages; you can speed this up considerably by \n",
    "identifying the scores of the ten recipes after that. For example:\n",
    "\n",
    "If the Elves think their skill will improve after making 9 recipes, the scores \n",
    "of the ten recipes after the first nine on the scoreboard would be 5158916779 \n",
    "(highlighted in the last line of the diagram).\n",
    "\n",
    "After 5 recipes, the scores of the next ten would be 0124515891.\n",
    "After 18 recipes, the scores of the next ten would be 9251071085.\n",
    "After 2018 recipes, the scores of the next ten would be 5941429882.\n",
    "What are the scores of the ten recipes immediately after the number \n",
    "of recipes in your puzzle input?\n",
    "\n",
    "Your puzzle input is 505961.\n",
    "```"
   ]
  },
  {
   "cell_type": "code",
   "execution_count": 31,
   "metadata": {},
   "outputs": [
    {
     "name": "stdout",
     "output_type": "stream",
     "text": [
      "20231866\n"
     ]
    }
   ],
   "source": [
    "puzzle = bytearray((int(c) for c in '505961'))\n",
    "recipes_found = bytearray([3, 7])\n",
    "\n",
    "elf1, elf2 = 0, 1\n",
    "loop = 0\n",
    "while True:\n",
    "    if (loop % 250_000) == 0 and puzzle in recipes_found:\n",
    "        break\n",
    "    recipe1, recipe2 = recipes_found[elf1], recipes_found[elf2]\n",
    "    new_recipe = recipe1 + recipe2\n",
    "    digit1, digit2 = new_recipe // 10, new_recipe % 10\n",
    "    if digit1 ^ 0:\n",
    "        recipes_found.append(digit1)\n",
    "    recipes_found.append(digit2)\n",
    "    elf1 = (elf1 + 1 + recipe1) % len(recipes_found)\n",
    "    elf2 = (elf2 + 1 + recipe2) % len(recipes_found)\n",
    "    loop += 1\n",
    "\n",
    "print(recipes_found.index(puzzle))"
   ]
  },
  {
   "cell_type": "code",
   "execution_count": 32,
   "metadata": {},
   "outputs": [],
   "source": [
    "def calc(_input):\n",
    "    rezept = [3, 7]\n",
    "    pos = [0, 1]\n",
    "    \n",
    "    while _input+11 > len(rezept):\n",
    "        add = rezept[pos[0]] + rezept[pos[1]]\n",
    "        if add >= 10:\n",
    "            rezept.append(int(add/10))\n",
    "            add %= 10\n",
    "        rezept.append(add)\n",
    "        \n",
    "        pos[0] += rezept[pos[0]] + 1\n",
    "        pos[1] += rezept[pos[1]] + 1\n",
    "        \n",
    "        pos[0] %= len(rezept)\n",
    "        pos[1] %= len(rezept)\n",
    "        #print(rezept)\n",
    "        \n",
    "    findArray = rezept[_input:_input+10]\n",
    "    for index in range(len(rezept)):\n",
    "        \n",
    "        for find in range(10):\n",
    "            if findArray[find] != rezept[index+find]:\n",
    "                break\n",
    "            elif find==9:\n",
    "                print('found at:',index)\n",
    "        \n",
    "    return rezept[_input:_input+10]"
   ]
  },
  {
   "cell_type": "code",
   "execution_count": 33,
   "metadata": {},
   "outputs": [
    {
     "name": "stdout",
     "output_type": "stream",
     "text": [
      "found at: 505961\n"
     ]
    },
    {
     "data": {
      "text/plain": [
       "[9, 3, 1, 5, 1, 6, 4, 1, 5, 4]"
      ]
     },
     "execution_count": 33,
     "metadata": {},
     "output_type": "execute_result"
    }
   ],
   "source": [
    "calc(505961)\n",
    "\n",
    "#405618 is too low\n",
    "#405619 is too low\n"
   ]
  },
  {
   "cell_type": "code",
   "execution_count": 48,
   "metadata": {},
   "outputs": [
    {
     "data": {
      "text/plain": [
       "[0, 1, 2, 4, 5, 1, 5, 8, 9, 1]"
      ]
     },
     "execution_count": 48,
     "metadata": {},
     "output_type": "execute_result"
    }
   ],
   "source": [
    "calc(5)"
   ]
  },
  {
   "cell_type": "code",
   "execution_count": 49,
   "metadata": {},
   "outputs": [
    {
     "data": {
      "text/plain": [
       "[9, 2, 5, 1, 0, 7, 1, 0, 8, 5]"
      ]
     },
     "execution_count": 49,
     "metadata": {},
     "output_type": "execute_result"
    }
   ],
   "source": [
    "calc(18)"
   ]
  },
  {
   "cell_type": "code",
   "execution_count": 50,
   "metadata": {},
   "outputs": [
    {
     "data": {
      "text/plain": [
       "[5, 9, 4, 1, 4, 2, 9, 8, 8, 2]"
      ]
     },
     "execution_count": 50,
     "metadata": {},
     "output_type": "execute_result"
    }
   ],
   "source": [
    "calc(2018)"
   ]
  }
 ],
 "metadata": {
  "kernelspec": {
   "display_name": "Python 3",
   "language": "python",
   "name": "python3"
  },
  "language_info": {
   "codemirror_mode": {
    "name": "ipython",
    "version": 3
   },
   "file_extension": ".py",
   "mimetype": "text/x-python",
   "name": "python",
   "nbconvert_exporter": "python",
   "pygments_lexer": "ipython3",
   "version": "3.7.0"
  }
 },
 "nbformat": 4,
 "nbformat_minor": 2
}
