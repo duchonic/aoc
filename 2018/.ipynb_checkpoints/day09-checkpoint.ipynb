{
 "cells": [
  {
   "cell_type": "markdown",
   "metadata": {},
   "source": [
    "```\n",
    "--- Day 9: Marble Mania ---\n",
    "\n",
    "You talk to the Elves while you wait for your navigation system to initialize. To pass the time, they introduce you to their favorite marble game.\n",
    "\n",
    "The Elves play this game by taking turns arranging the marbles in a circle according to very particular rules. The marbles are numbered starting with 0 and increasing by 1 until every marble has a number.\n",
    "\n",
    "First, the marble numbered 0 is placed in the circle. At this point, while it contains only a single marble, it is still a circle: the marble is both clockwise from itself and counter-clockwise from itself. This marble is designated the current marble.\n",
    "\n",
    "Then, each Elf takes a turn placing the lowest-numbered remaining marble into the circle between the marbles that are 1 and 2 marbles clockwise of the current marble. (When the circle is large enough, this means that there is one marble between the marble that was just placed and the current marble.) The marble that was just placed then becomes the current marble.\n",
    "\n",
    "However, if the marble that is about to be placed has a number which is a multiple of 23, something entirely different happens. First, the current player keeps the marble they would have placed, adding it to their score. In addition, the marble 7 marbles counter-clockwise from the current marble is removed from the circle and also added to the current player's score. The marble located immediately clockwise of the marble that was removed becomes the new current marble.\n",
    "\n",
    "For example, suppose there are 9 players. After the marble with value 0 is placed in the middle, each player (shown in square brackets) takes a turn. The result of each of those turns would produce circles of marbles like this, where clockwise is to the right and the resulting current marble is in parentheses:\n",
    "\n",
    "[-] (0)\n",
    "[1]  0 (1)\n",
    "[2]  0 (2) 1 \n",
    "[3]  0  2  1 (3)\n",
    "[4]  0 (4) 2  1  3 \n",
    "[5]  0  4  2 (5) 1  3 \n",
    "[6]  0  4  2  5  1 (6) 3 \n",
    "[7]  0  4  2  5  1  6  3 (7)\n",
    "[8]  0 (8) 4  2  5  1  6  3  7 \n",
    "[9]  0  8  4 (9) 2  5  1  6  3  7 \n",
    "[1]  0  8  4  9  2(10) 5  1  6  3  7 \n",
    "[2]  0  8  4  9  2 10  5(11) 1  6  3  7 \n",
    "[3]  0  8  4  9  2 10  5 11  1(12) 6  3  7 \n",
    "[4]  0  8  4  9  2 10  5 11  1 12  6(13) 3  7 \n",
    "[5]  0  8  4  9  2 10  5 11  1 12  6 13  3(14) 7 \n",
    "[6]  0  8  4  9  2 10  5 11  1 12  6 13  3 14  7(15)\n",
    "[7]  0(16) 8  4  9  2 10  5 11  1 12  6 13  3 14  7 15 \n",
    "[8]  0 16  8(17) 4  9  2 10  5 11  1 12  6 13  3 14  7 15 \n",
    "[9]  0 16  8 17  4(18) 9  2 10  5 11  1 12  6 13  3 14  7 15 \n",
    "[1]  0 16  8 17  4 18  9(19) 2 10  5 11  1 12  6 13  3 14  7 15 \n",
    "[2]  0 16  8 17  4 18  9 19  2(20)10  5 11  1 12  6 13  3 14  7 15 \n",
    "[3]  0 16  8 17  4 18  9 19  2 20 10(21) 5 11  1 12  6 13  3 14  7 15 \n",
    "[4]  0 16  8 17  4 18  9 19  2 20 10 21  5(22)11  1 12  6 13  3 14  7 15 \n",
    "[5]  0 16  8 17  4 18(19) 2 20 10 21  5 22 11  1 12  6 13  3 14  7 15 \n",
    "[6]  0 16  8 17  4 18 19  2(24)20 10 21  5 22 11  1 12  6 13  3 14  7 15 \n",
    "[7]  0 16  8 17  4 18 19  2 24 20(25)10 21  5 22 11  1 12  6 13  3 14  7 15\n",
    "\n",
    "The goal is to be the player with the highest score after the last marble is used up. Assuming the example above ends after the marble numbered 25, the winning score is 23+9=32 (because player 5 kept marble 23 and removed marble 9, while no other player got any points in this very short example game).\n",
    "\n",
    "Here are a few more examples:\n",
    "\n",
    "    10 players; last marble is worth 1618 points: high score is 8317\n",
    "    13 players; last marble is worth 7999 points: high score is 146373\n",
    "    17 players; last marble is worth 1104 points: high score is 2764\n",
    "    21 players; last marble is worth 6111 points: high score is 54718\n",
    "    30 players; last marble is worth 5807 points: high score is 37305\n",
    "\n",
    "What is the winning Elf's score?\n",
    "```"
   ]
  },
  {
   "cell_type": "code",
   "execution_count": null,
   "metadata": {},
   "outputs": [],
   "source": [
    "input = \"405 players; last marble is worth 71700 points\""
   ]
  },
  {
   "cell_type": "code",
   "execution_count": 1,
   "metadata": {},
   "outputs": [],
   "source": [
    "import matplotlib.pyplot as plt"
   ]
  },
  {
   "cell_type": "code",
   "execution_count": 2,
   "metadata": {},
   "outputs": [],
   "source": [
    "def calcGame(players, lastMarble):\n",
    "    scores = [0 for _ in range(players)]\n",
    "    circle = [0, 2, 1, 3]\n",
    "    positionMarble = 3\n",
    "    \n",
    "    currentMarble = 3\n",
    "    \n",
    "    signal = list()\n",
    "    \n",
    "    lastMax = 0\n",
    "    while True:\n",
    "        currentMarble += 1\n",
    "        \n",
    "        if (currentMarble % 10_000) == 0:\n",
    "            print(currentMarble, max(scores), max(scores)-lastMax)\n",
    "            signal.append(max(scores)-lastMax)\n",
    "            lastMax = max(scores)\n",
    "        \n",
    "        if currentMarble%23 == 0:\n",
    "            positionMarble -= 7\n",
    "            \n",
    "            scores[((currentMarble-1)%players)] += currentMarble\n",
    "            tookMarble = circle.pop(positionMarble)\n",
    "            scores[((currentMarble-1)%players)] += tookMarble\n",
    "      \n",
    "            if positionMarble == -1:\n",
    "                positionMarble = 0\n",
    "            elif positionMarble < 0:\n",
    "                positionMarble = len(circle)+positionMarble+1\n",
    "        else:\n",
    "            positionMarble += 2\n",
    "            \n",
    "            if positionMarble < len(circle):\n",
    "                circle.insert(positionMarble, currentMarble)\n",
    "            elif positionMarble == len(circle):\n",
    "                circle.append(currentMarble)\n",
    "            elif positionMarble == len(circle)+1:\n",
    "                positionMarble = 1\n",
    "                circle.insert(positionMarble, currentMarble)\n",
    "\n",
    "        if currentMarble >= lastMarble:\n",
    "            break\n",
    "    return scores, signal"
   ]
  },
  {
   "cell_type": "code",
   "execution_count": null,
   "metadata": {},
   "outputs": [],
   "source": [
    "assert max(calcGame(9, 25)) == 32"
   ]
  },
  {
   "cell_type": "code",
   "execution_count": null,
   "metadata": {},
   "outputs": [],
   "source": [
    "assert max(calcGame(10,1618)) == 8317"
   ]
  },
  {
   "cell_type": "code",
   "execution_count": null,
   "metadata": {},
   "outputs": [],
   "source": [
    "assert max(calcGame(13,7999)) == 146373"
   ]
  },
  {
   "cell_type": "code",
   "execution_count": null,
   "metadata": {},
   "outputs": [],
   "source": [
    "assert max(calcGame(17,1104)) == 2764"
   ]
  },
  {
   "cell_type": "code",
   "execution_count": null,
   "metadata": {},
   "outputs": [],
   "source": [
    "assert max(calcGame(21,6111)) == 54718"
   ]
  },
  {
   "cell_type": "code",
   "execution_count": null,
   "metadata": {},
   "outputs": [],
   "source": [
    "assert max(calcGame(30,5807)) == 37305"
   ]
  },
  {
   "cell_type": "code",
   "execution_count": null,
   "metadata": {},
   "outputs": [],
   "source": [
    "max(calcGame(405,71700))"
   ]
  },
  {
   "cell_type": "code",
   "execution_count": null,
   "metadata": {},
   "outputs": [],
   "source": [
    "max(calcGame(405,7170000))"
   ]
  },
  {
   "cell_type": "code",
   "execution_count": null,
   "metadata": {},
   "outputs": [],
   "source": [
    "#427124 is too low\n",
    "#427858 is too low"
   ]
  },
  {
   "cell_type": "code",
   "execution_count": 6,
   "metadata": {},
   "outputs": [
    {
     "name": "stdout",
     "output_type": "stream",
     "text": [
      "10000 15182 15182\n",
      "20000 45017 29835\n",
      "30000 90067 45050\n",
      "40000 151317 61250\n",
      "50000 219045 67728\n",
      "60000 309838 90793\n",
      "70000 407831 97993\n",
      "80000 532042 124211\n",
      "90000 653605 121563\n",
      "100000 789472 135867\n",
      "110000 962051 172579\n",
      "120000 1122914 160863\n",
      "130000 1307556 184642\n",
      "140000 1507804 200248\n",
      "150000 1732698 224894\n",
      "160000 1951654 218956\n",
      "170000 2189117 237463\n",
      "180000 2452738 263621\n",
      "190000 2727884 275146\n",
      "200000 3022085 294201\n",
      "210000 3309346 287261\n",
      "220000 3613541 304195\n",
      "230000 3963977 350436\n",
      "240000 4283288 319311\n",
      "250000 4648373 365085\n",
      "260000 5007381 359008\n",
      "270000 5381422 374041\n",
      "280000 5808510 427088\n",
      "290000 6208148 399638\n",
      "300000 6583676 375528\n",
      "310000 7062209 478533\n",
      "320000 7490602 428393\n",
      "330000 7961891 471289\n",
      "340000 8453823 491932\n",
      "350000 8967826 514003\n",
      "360000 9427514 459688\n",
      "370000 9991963 564449\n",
      "380000 10530505 538542\n",
      "390000 11072484 541979\n",
      "400000 11647869 575385\n",
      "410000 12171252 523383\n",
      "420000 12857095 685843\n",
      "430000 13460112 603017\n",
      "440000 14031406 571294\n",
      "450000 14714883 683477\n",
      "460000 15372679 657796\n",
      "470000 15989954 617275\n",
      "480000 16688071 698117\n",
      "490000 17347975 659904\n",
      "500000 18122652 774677\n",
      "510000 18855407 732755\n",
      "520000 19505258 649851\n",
      "530000 20315849 810591\n",
      "540000 21032470 716621\n",
      "550000 21843508 811038\n",
      "560000 22630067 786559\n",
      "570000 23384608 754541\n",
      "580000 24255864 871256\n",
      "590000 25047377 791513\n",
      "600000 26005084 957707\n",
      "610000 26815179 810095\n",
      "620000 27639649 824470\n",
      "630000 28567937 928288\n",
      "640000 29483274 915337\n",
      "650000 30444015 960741\n",
      "660000 31329914 885899\n",
      "670000 32204321 874407\n",
      "680000 33328547 1124226\n",
      "690000 34181212 852665\n",
      "700000 35086053 904841\n",
      "710000 36204036 1117983\n"
     ]
    }
   ],
   "source": [
    "score, x = calcGame(405,717000)"
   ]
  },
  {
   "cell_type": "code",
   "execution_count": 8,
   "metadata": {},
   "outputs": [
    {
     "data": {
      "text/plain": [
       "[<matplotlib.lines.Line2D at 0x1199808d0>]"
      ]
     },
     "execution_count": 8,
     "metadata": {},
     "output_type": "execute_result"
    },
    {
     "data": {
      "image/png": "[encoded data removed]",
      "text/plain": [
       "<Figure size 432x288 with 1 Axes>"
      ]
     },
     "metadata": {
      "needs_background": "light"
     },
     "output_type": "display_data"
    }
   ],
   "source": [
    "plt.plot(x)"
   ]
  },
  {
   "cell_type": "code",
   "execution_count": null,
   "metadata": {},
   "outputs": [],
   "source": []
  }
 ],
 "metadata": {
  "kernelspec": {
   "display_name": "Python 3",
   "language": "python",
   "name": "python3"
  },
  "language_info": {
   "codemirror_mode": {
    "name": "ipython",
    "version": 3
   },
   "file_extension": ".py",
   "mimetype": "text/x-python",
   "name": "python",
   "nbconvert_exporter": "python",
   "pygments_lexer": "ipython3",
   "version": "3.7.0"
  }
 },
 "nbformat": 4,
 "nbformat_minor": 2
}
