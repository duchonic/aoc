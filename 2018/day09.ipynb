{
 "cells": [
  {
   "cell_type": "markdown",
   "metadata": {},
   "source": [
    "```\n",
    "--- Day 9: Marble Mania ---\n",
    "\n",
    "You talk to the Elves while you wait for your navigation system to initialize. To pass the time, they introduce you to their favorite marble game.\n",
    "\n",
    "The Elves play this game by taking turns arranging the marbles in a circle according to very particular rules. The marbles are numbered starting with 0 and increasing by 1 until every marble has a number.\n",
    "\n",
    "First, the marble numbered 0 is placed in the circle. At this point, while it contains only a single marble, it is still a circle: the marble is both clockwise from itself and counter-clockwise from itself. This marble is designated the current marble.\n",
    "\n",
    "Then, each Elf takes a turn placing the lowest-numbered remaining marble into the circle between the marbles that are 1 and 2 marbles clockwise of the current marble. (When the circle is large enough, this means that there is one marble between the marble that was just placed and the current marble.) The marble that was just placed then becomes the current marble.\n",
    "\n",
    "However, if the marble that is about to be placed has a number which is a multiple of 23, something entirely different happens. First, the current player keeps the marble they would have placed, adding it to their score. In addition, the marble 7 marbles counter-clockwise from the current marble is removed from the circle and also added to the current player's score. The marble located immediately clockwise of the marble that was removed becomes the new current marble.\n",
    "\n",
    "For example, suppose there are 9 players. After the marble with value 0 is placed in the middle, each player (shown in square brackets) takes a turn. The result of each of those turns would produce circles of marbles like this, where clockwise is to the right and the resulting current marble is in parentheses:\n",
    "\n",
    "[-] (0)\n",
    "[1]  0 (1)\n",
    "[2]  0 (2) 1 \n",
    "[3]  0  2  1 (3)\n",
    "[4]  0 (4) 2  1  3 \n",
    "[5]  0  4  2 (5) 1  3 \n",
    "[6]  0  4  2  5  1 (6) 3 \n",
    "[7]  0  4  2  5  1  6  3 (7)\n",
    "[8]  0 (8) 4  2  5  1  6  3  7 \n",
    "[9]  0  8  4 (9) 2  5  1  6  3  7 \n",
    "[1]  0  8  4  9  2(10) 5  1  6  3  7 \n",
    "[2]  0  8  4  9  2 10  5(11) 1  6  3  7 \n",
    "[3]  0  8  4  9  2 10  5 11  1(12) 6  3  7 \n",
    "[4]  0  8  4  9  2 10  5 11  1 12  6(13) 3  7 \n",
    "[5]  0  8  4  9  2 10  5 11  1 12  6 13  3(14) 7 \n",
    "[6]  0  8  4  9  2 10  5 11  1 12  6 13  3 14  7(15)\n",
    "[7]  0(16) 8  4  9  2 10  5 11  1 12  6 13  3 14  7 15 \n",
    "[8]  0 16  8(17) 4  9  2 10  5 11  1 12  6 13  3 14  7 15 \n",
    "[9]  0 16  8 17  4(18) 9  2 10  5 11  1 12  6 13  3 14  7 15 \n",
    "[1]  0 16  8 17  4 18  9(19) 2 10  5 11  1 12  6 13  3 14  7 15 \n",
    "[2]  0 16  8 17  4 18  9 19  2(20)10  5 11  1 12  6 13  3 14  7 15 \n",
    "[3]  0 16  8 17  4 18  9 19  2 20 10(21) 5 11  1 12  6 13  3 14  7 15 \n",
    "[4]  0 16  8 17  4 18  9 19  2 20 10 21  5(22)11  1 12  6 13  3 14  7 15 \n",
    "[5]  0 16  8 17  4 18(19) 2 20 10 21  5 22 11  1 12  6 13  3 14  7 15 \n",
    "[6]  0 16  8 17  4 18 19  2(24)20 10 21  5 22 11  1 12  6 13  3 14  7 15 \n",
    "[7]  0 16  8 17  4 18 19  2 24 20(25)10 21  5 22 11  1 12  6 13  3 14  7 15\n",
    "\n",
    "The goal is to be the player with the highest score after the last marble is used up. Assuming the example above ends after the marble numbered 25, the winning score is 23+9=32 (because player 5 kept marble 23 and removed marble 9, while no other player got any points in this very short example game).\n",
    "\n",
    "Here are a few more examples:\n",
    "\n",
    "    10 players; last marble is worth 1618 points: high score is 8317\n",
    "    13 players; last marble is worth 7999 points: high score is 146373\n",
    "    17 players; last marble is worth 1104 points: high score is 2764\n",
    "    21 players; last marble is worth 6111 points: high score is 54718\n",
    "    30 players; last marble is worth 5807 points: high score is 37305\n",
    "\n",
    "What is the winning Elf's score?\n",
    "```"
   ]
  },
  {
   "cell_type": "code",
   "execution_count": 2,
   "metadata": {},
   "outputs": [],
   "source": [
    "input = \"405 players; last marble is worth 71700 points\""
   ]
  },
  {
   "cell_type": "code",
   "execution_count": null,
   "metadata": {},
   "outputs": [],
   "source": []
  }
 ],
 "metadata": {
  "kernelspec": {
   "display_name": "Python 3",
   "language": "python",
   "name": "python3"
  },
  "language_info": {
   "codemirror_mode": {
    "name": "ipython",
    "version": 3
   },
   "file_extension": ".py",
   "mimetype": "text/x-python",
   "name": "python",
   "nbconvert_exporter": "python",
   "pygments_lexer": "ipython3",
   "version": "3.6.7"
  }
 },
 "nbformat": 4,
 "nbformat_minor": 2
}
