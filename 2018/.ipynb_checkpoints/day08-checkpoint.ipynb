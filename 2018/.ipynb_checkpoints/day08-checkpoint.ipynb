{
 "cells": [
  {
   "cell_type": "markdown",
   "metadata": {},
   "source": [
    "```\n",
    "--- Day 8: Memory Maneuver ---\n",
    "\n",
    "The sleigh is much easier to pull than you'd expect for something its weight. Unfortunately, \n",
    "neither you nor the Elves know which way the North Pole is from here.\n",
    "\n",
    "You check your wrist device for anything that might help. \n",
    "It seems to have some kind of navigation system! \n",
    "Activating the navigation system produces more bad news: \"Failed to start navigation system. \n",
    "Could not read software license file.\"\n",
    "\n",
    "The navigation system's license file consists of a list of numbers (your puzzle input). \n",
    "The numbers define a data structure which, when processed, produces some kind of \n",
    "tree that can be used to calculate the license number.\n",
    "\n",
    "The tree is made up of nodes; a single, outermost node forms the tree's root, and it \n",
    "contains all other nodes in the tree (or contains nodes that contain nodes, and so on).\n",
    "\n",
    "Specifically, a node consists of:\n",
    "\n",
    "    A header, which is always exactly two numbers:\n",
    "        The quantity of child nodes.\n",
    "        The quantity of metadata entries.\n",
    "    Zero or more child nodes (as specified in the header).\n",
    "    One or more metadata entries (as specified in the header).\n",
    "\n",
    "Each child node is itself a node that has its own header, child nodes, and metadata. For example:\n",
    "\n",
    "2 3 0 3 10 11 12 1 1 0 1 99 2 1 1 2\n",
    "A----------------------------------\n",
    "    B----------- C-----------\n",
    "                     D-----\n",
    "\n",
    "In this example, each node of the tree is also marked with an underline starting with a \n",
    "letter for easier identification. In it, there are four nodes:\n",
    "\n",
    "    A, which has 2 child nodes (B, C) and 3 metadata entries (1, 1, 2).\n",
    "    B, which has 0 child nodes and 3 metadata entries (10, 11, 12).\n",
    "    C, which has 1 child node (D) and 1 metadata entry (2).\n",
    "    D, which has 0 child nodes and 1 metadata entry (99).\n",
    "\n",
    "The first check done on the license file is to simply add up all of the metadata entries. \n",
    "In this example, that sum is 1+1+2+10+11+12+2+99=138.\n",
    "\n",
    "What is the sum of all metadata entries?\n",
    "\n",
    "To begin, get your puzzle input.\n",
    "\n",
    "Your puzzle answer was 44838.\n",
    "\n",
    "--- Part Two ---\n",
    "The second check is slightly more complicated: \n",
    "you need to find the value of the root node (A in the example above).\n",
    "\n",
    "The value of a node depends on whether it has child nodes.\n",
    "\n",
    "If a node has no child nodes, its value is the sum of its metadata entries. \n",
    "So, the value of node B is 10+11+12=33, and the value of node D is 99.\n",
    "\n",
    "However, if a node does have child nodes, the metadata entries become \n",
    "indexes which refer to those child nodes. A metadata entry of 1 refers to \n",
    "the first child node, 2 to the second, 3 to the third, and so on. \n",
    "The value of this node is the sum of the values of the child nodes referenced \n",
    "by the metadata entries. If a referenced child node does not exist, that reference \n",
    "is skipped. A child node can be referenced multiple time and counts each time it is \n",
    "referenced. A metadata entry of 0 does not refer to any child node.\n",
    "\n",
    "For example, again using the above nodes:\n",
    "\n",
    "2 3 0 3 10 11 12 1 1 0 1 99 2 1 1 2\n",
    "A----------------------------------\n",
    "    B----------- C-----------\n",
    "                     D-----\n",
    "\n",
    "Node C has one metadata entry, 2. Because node C has only one child node, \n",
    "2 references a child node which does not exist, and so the value of node C is 0.\n",
    "\n",
    "Node A has three metadata entries: 1, 1, and 2. \n",
    "The 1 references node A's first child node, B, and the 2 references node A's second child node, C. \n",
    "Because node B has a value of 33 and node C has a value of 0, the value of node A is 33+33+0=66.\n",
    "So, in this example, the value of the root node is 66.\n",
    "\n",
    "What is the value of the root node?\n",
    "\n",
    "```"
   ]
  },
  {
   "cell_type": "code",
   "execution_count": 2,
   "metadata": {},
   "outputs": [],
   "source": [
    "data = \"2 3 0 3 10 11 12 1 1 0 1 99 2 1 1 2\"\n",
    "dataResult = 0\n",
    "\n",
    "realData = open('data/day08.data').read().split()\n",
    "result = 1 + 1 + 2 + 10 + 11 + 12 + 2 + 99\n",
    "\n",
    "datalist = data.split()"
   ]
  },
  {
   "cell_type": "code",
   "execution_count": 3,
   "metadata": {},
   "outputs": [],
   "source": [
    "def process(data, Result):    \n",
    "    index = 0\n",
    "    while 1:\n",
    "        if data[index] == '0':\n",
    "            childs = data.pop(index)\n",
    "            #print('parent found:', childs, 'index:', index)\n",
    "            length = int(data.pop(index))\n",
    "            #print('length:', length)\n",
    "\n",
    "            for i in range(length):\n",
    "                readData = int(data.pop(index))\n",
    "                Result +=  readData\n",
    "                #print('readData:', readData)\n",
    "            try:\n",
    "                data[index-2] = str(int(data[index-2])-1)\n",
    "            except:\n",
    "                break\n",
    "            break\n",
    "        else:\n",
    "            pass\n",
    "            #print('no parent:', data[index])\n",
    "        index += 2\n",
    "\n",
    "    return data, Result"
   ]
  },
  {
   "cell_type": "code",
   "execution_count": 4,
   "metadata": {},
   "outputs": [],
   "source": [
    "dataResult = 0\n",
    "while 1:\n",
    "    try:\n",
    "        realData, dataResult = process(realData, dataResult)\n",
    "    except:\n",
    "        break"
   ]
  },
  {
   "cell_type": "code",
   "execution_count": 5,
   "metadata": {},
   "outputs": [
    {
     "name": "stdout",
     "output_type": "stream",
     "text": [
      "44838\n"
     ]
    }
   ],
   "source": [
    "print(dataResult)"
   ]
  },
  {
   "cell_type": "code",
   "execution_count": 6,
   "metadata": {},
   "outputs": [],
   "source": [
    "dataResult = 0\n",
    "while 1:\n",
    "    try:\n",
    "        datalist, dataResult = process(datalist, dataResult)\n",
    "    except:\n",
    "        break"
   ]
  },
  {
   "cell_type": "code",
   "execution_count": 7,
   "metadata": {},
   "outputs": [
    {
     "name": "stdout",
     "output_type": "stream",
     "text": [
      "138 138\n"
     ]
    }
   ],
   "source": [
    "print(dataResult, result)\n",
    "assert dataResult == result"
   ]
  },
  {
   "cell_type": "code",
   "execution_count": 8,
   "metadata": {},
   "outputs": [
    {
     "name": "stdout",
     "output_type": "stream",
     "text": [
      "part 1\n",
      "37751\n",
      "part 2\n",
      "22198\n"
     ]
    }
   ],
   "source": [
    "import string\n",
    "\n",
    "import numpy as np\n",
    "\n",
    "import networkx as nx\n",
    "\n",
    "with open('data/day08.data') as f:\n",
    "    data = [int(n) for n in f.read().split()]\n",
    "\n",
    "\n",
    "class Node(object):\n",
    "\n",
    "    def __init__(self, n_children, metadata=None):\n",
    "\n",
    "        self.metadata = metadata\n",
    "        self.n_children = n_children\n",
    "        self.children = []\n",
    "        self.value = 0\n",
    "\n",
    "\n",
    "\n",
    "def pop_spec(data):\n",
    "\n",
    "    n_children = data.pop(0)\n",
    "    n_meta = data.pop(0)\n",
    "\n",
    "    return n_children, n_meta, data\n",
    "\n",
    "# get the spec\n",
    "# make a node\n",
    "#recurse down the data\n",
    "# after recursion pull in the metadata\n",
    "\n",
    "G = nx.DiGraph()\n",
    "\n",
    "# letters = string.ascii_uppercase\n",
    "\n",
    "def parse_data(data):\n",
    "    n_children, n_meta, data = pop_spec(data)\n",
    "    node = Node(n_children=n_children)\n",
    "\n",
    "    if n_children == 0:\n",
    "        node.metadata = [data.pop(0) for i in range(n_meta)]\n",
    "\n",
    "        node.value = sum(node.metadata)\n",
    "\n",
    "    else:\n",
    "        for i in range(n_children):\n",
    "            data, child_node = parse_data(data)\n",
    "            node.children.append(child_node)\n",
    "            G.add_edge(node, child_node)\n",
    "\n",
    "        node.metadata = [data.pop(0)-1 for i in range(n_meta)]\n",
    "\n",
    "        for idx in node.metadata:\n",
    "            if idx < n_children:\n",
    "                node.value += node.children[idx].value\n",
    "    G.add_node(node)\n",
    "\n",
    "    return data, node\n",
    "\n",
    "print('part 1')\n",
    "parse_data(data)\n",
    "\n",
    "meta_total = 0\n",
    "for node in G.nodes():\n",
    "    meta_total += sum(node.metadata)\n",
    "print(meta_total)\n",
    "\n",
    "\n",
    "print('part 2')\n",
    "\n",
    "# find root\n",
    "for node in G:\n",
    "    if G.in_degree(node) == 0:\n",
    "        break\n",
    "print(node.value)\n"
   ]
  },
  {
   "cell_type": "code",
   "execution_count": null,
   "metadata": {},
   "outputs": [],
   "source": []
  }
 ],
 "metadata": {
  "kernelspec": {
   "display_name": "Python 3",
   "language": "python",
   "name": "python3"
  },
  "language_info": {
   "codemirror_mode": {
    "name": "ipython",
    "version": 3
   },
   "file_extension": ".py",
   "mimetype": "text/x-python",
   "name": "python",
   "nbconvert_exporter": "python",
   "pygments_lexer": "ipython3",
   "version": "3.7.0"
  }
 },
 "nbformat": 4,
 "nbformat_minor": 2
}
