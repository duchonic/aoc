{
 "cells": [
  {
   "cell_type": "markdown",
   "metadata": {},
   "source": [
    "```\n",
    "--- Day 9: Marble Mania ---\n",
    "\n",
    "You talk to the Elves while you wait for your navigation system to initialize. To pass the time, they introduce you to their favorite marble game.\n",
    "\n",
    "The Elves play this game by taking turns arranging the marbles in a circle according to very particular rules. The marbles are numbered starting with 0 and increasing by 1 until every marble has a number.\n",
    "\n",
    "First, the marble numbered 0 is placed in the circle. At this point, while it contains only a single marble, it is still a circle: the marble is both clockwise from itself and counter-clockwise from itself. This marble is designated the current marble.\n",
    "\n",
    "Then, each Elf takes a turn placing the lowest-numbered remaining marble into the circle between the marbles that are 1 and 2 marbles clockwise of the current marble. (When the circle is large enough, this means that there is one marble between the marble that was just placed and the current marble.) The marble that was just placed then becomes the current marble.\n",
    "\n",
    "However, if the marble that is about to be placed has a number which is a multiple of 23, something entirely different happens. First, the current player keeps the marble they would have placed, adding it to their score. In addition, the marble 7 marbles counter-clockwise from the current marble is removed from the circle and also added to the current player's score. The marble located immediately clockwise of the marble that was removed becomes the new current marble.\n",
    "\n",
    "For example, suppose there are 9 players. After the marble with value 0 is placed in the middle, each player (shown in square brackets) takes a turn. The result of each of those turns would produce circles of marbles like this, where clockwise is to the right and the resulting current marble is in parentheses:\n",
    "\n",
    "[-] (0)\n",
    "[1]  0 (1)\n",
    "[2]  0 (2) 1 \n",
    "[3]  0  2  1 (3)\n",
    "[4]  0 (4) 2  1  3 \n",
    "[5]  0  4  2 (5) 1  3 \n",
    "[6]  0  4  2  5  1 (6) 3 \n",
    "[7]  0  4  2  5  1  6  3 (7)\n",
    "[8]  0 (8) 4  2  5  1  6  3  7 \n",
    "[9]  0  8  4 (9) 2  5  1  6  3  7 \n",
    "[1]  0  8  4  9  2(10) 5  1  6  3  7 \n",
    "[2]  0  8  4  9  2 10  5(11) 1  6  3  7 \n",
    "[3]  0  8  4  9  2 10  5 11  1(12) 6  3  7 \n",
    "[4]  0  8  4  9  2 10  5 11  1 12  6(13) 3  7 \n",
    "[5]  0  8  4  9  2 10  5 11  1 12  6 13  3(14) 7 \n",
    "[6]  0  8  4  9  2 10  5 11  1 12  6 13  3 14  7(15)\n",
    "[7]  0(16) 8  4  9  2 10  5 11  1 12  6 13  3 14  7 15 \n",
    "[8]  0 16  8(17) 4  9  2 10  5 11  1 12  6 13  3 14  7 15 \n",
    "[9]  0 16  8 17  4(18) 9  2 10  5 11  1 12  6 13  3 14  7 15 \n",
    "[1]  0 16  8 17  4 18  9(19) 2 10  5 11  1 12  6 13  3 14  7 15 \n",
    "[2]  0 16  8 17  4 18  9 19  2(20)10  5 11  1 12  6 13  3 14  7 15 \n",
    "[3]  0 16  8 17  4 18  9 19  2 20 10(21) 5 11  1 12  6 13  3 14  7 15 \n",
    "[4]  0 16  8 17  4 18  9 19  2 20 10 21  5(22)11  1 12  6 13  3 14  7 15 \n",
    "[5]  0 16  8 17  4 18(19) 2 20 10 21  5 22 11  1 12  6 13  3 14  7 15 \n",
    "[6]  0 16  8 17  4 18 19  2(24)20 10 21  5 22 11  1 12  6 13  3 14  7 15 \n",
    "[7]  0 16  8 17  4 18 19  2 24 20(25)10 21  5 22 11  1 12  6 13  3 14  7 15\n",
    "\n",
    "The goal is to be the player with the highest score after the last marble is used up. Assuming the example above ends after the marble numbered 25, the winning score is 23+9=32 (because player 5 kept marble 23 and removed marble 9, while no other player got any points in this very short example game).\n",
    "\n",
    "Here are a few more examples:\n",
    "\n",
    "    10 players; last marble is worth 1618 points: high score is 8317\n",
    "    13 players; last marble is worth 7999 points: high score is 146373\n",
    "    17 players; last marble is worth 1104 points: high score is 2764\n",
    "    21 players; last marble is worth 6111 points: high score is 54718\n",
    "    30 players; last marble is worth 5807 points: high score is 37305\n",
    "\n",
    "What is the winning Elf's score?\n",
    "```"
   ]
  },
  {
   "cell_type": "code",
   "execution_count": 1,
   "metadata": {},
   "outputs": [],
   "source": [
    "input = \"405 players; last marble is worth 71700 points\""
   ]
  },
  {
   "cell_type": "code",
   "execution_count": 2,
   "metadata": {},
   "outputs": [],
   "source": [
    "class Node:\n",
    "    def __init__(self, _data, _prev=None, _next=None):\n",
    "        self._data = _data\n",
    "        self._prev = _prev\n",
    "        self._next = _next"
   ]
  },
  {
   "cell_type": "code",
   "execution_count": 3,
   "metadata": {},
   "outputs": [
    {
     "name": "stdout",
     "output_type": "stream",
     "text": [
      "1\n",
      "2\n",
      "0\n"
     ]
    }
   ],
   "source": [
    "a = Node(0)\n",
    "b = Node(1,a)\n",
    "c = Node(2,b,a)\n",
    "\n",
    "a._next = b\n",
    "a._prev = c\n",
    "b._next = c\n",
    "b._prev = a\n",
    "\n",
    "print(a._next._data)\n",
    "print(b._next._data)\n",
    "print(c._next._data)"
   ]
  },
  {
   "cell_type": "code",
   "execution_count": 1,
   "metadata": {},
   "outputs": [],
   "source": [
    "def calcGame(players, lastMarble):\n",
    "    '''\n",
    "     \n",
    "    item   0        1     2     3\n",
    "    data   0        2     1     3\n",
    "    next   1    ->  2 ->  3 ->  None\n",
    "    prev.  None <-  0 ->  1 ->  2\n",
    "    \n",
    "    left to right (next) -> if none goto first\n",
    "    right to left (prev) -> if none goto last\n",
    "     \n",
    "    '''\n",
    "    class Node:\n",
    "        def __init__(self, _data):\n",
    "            self._data = _data\n",
    "            self._next = None\n",
    "            self._prev = None\n",
    "            \n",
    "            \n",
    "            \n",
    "    class LinkedList:\n",
    "        def __init__(self):            \n",
    "            self.currentNode = Node(0)\n",
    "            self.currentNode._next = self.currentNode\n",
    "            self.currentNode._prev = self.currentNode\n",
    "            \n",
    "            self.firstNode = self.currentNode\n",
    "            self.lastNode = self.currentNode\n",
    "            self.player = 0\n",
    "            self.scores = [0]*players\n",
    "            \n",
    "        def push(self, data):\n",
    "            lastNode = self.currentNode\n",
    "            self.currentNode = Node(data)\n",
    "            self.currentNode._next = lastNode._next\n",
    "            lastNode._next = self.currentNode\n",
    "            self.currentNode._prev = lastNode\n",
    "            self.lastNode = self.currentNode\n",
    "            self.firstNode._prev = self.lastNode\n",
    "            \n",
    "        def push2(self, data):\n",
    "            \n",
    "            if (data%23) == 0:\n",
    "                for _ in range(7):\n",
    "                    try:\n",
    "                        self.currentNode = self.currentNode._prev\n",
    "                    except:\n",
    "                        pass\n",
    "                    \n",
    "                #remove current node\n",
    "                #print(self.currentNode._data, data, self.player, self.scores)\n",
    "                self.scores[self.player-1] += data+self.currentNode._data\n",
    "                \n",
    "                lastNode = self.currentNode._prev\n",
    "                nextNode = self.currentNode._next\n",
    "                \n",
    "                lastNode._next = nextNode\n",
    "                nextNode._prev = lastNode\n",
    "                \n",
    "                self.currentNode = nextNode\n",
    "                \n",
    "            else:\n",
    "                self.currentNode = self.currentNode._next\n",
    "  \n",
    "                #save the old node\n",
    "                lastNode = self.currentNode\n",
    "    \n",
    "                #create a new node\n",
    "                self.currentNode = Node(data)\n",
    "                \n",
    "                self.currentNode._next = lastNode._next\n",
    "                lastNode._next._prev = self.currentNode\n",
    "                \n",
    "                lastNode._next = self.currentNode\n",
    "                self.currentNode._prev = lastNode\n",
    "            \n",
    "                \n",
    "            if self.player < players:\n",
    "                self.player += 1\n",
    "            else:\n",
    "                self.player = 1\n",
    "                \n",
    "        def __str__(self):\n",
    "            node = self.firstNode\n",
    "            out = \"\"\n",
    "            out += \"player {}: \".format(self.player)\n",
    "            for _ in range(lastMarble+5):\n",
    "                out += \"{} \".format(node._data)\n",
    "                node = node._next\n",
    "                           \n",
    "            out += '\\n'\n",
    "            node = self.lastNode\n",
    "            out += \"player {}: \".format(self.player)\n",
    "            for _ in range(lastMarble+5):\n",
    "                out += \"{} \".format(node._data)\n",
    "                node = node._prev\n",
    "            \n",
    "            return out\n",
    "        \n",
    "    mList = LinkedList()\n",
    "\n",
    "    for i in range(1,lastMarble+1):\n",
    "        mList.push2(i)\n",
    "\n",
    "    return mList.scores"
   ]
  },
  {
   "cell_type": "code",
   "execution_count": 2,
   "metadata": {},
   "outputs": [
    {
     "data": {
      "text/plain": [
       "[0, 0, 0, 32, 0, 0, 0, 0, 0]"
      ]
     },
     "execution_count": 2,
     "metadata": {},
     "output_type": "execute_result"
    }
   ],
   "source": [
    "calcGame(9,25)"
   ]
  },
  {
   "cell_type": "code",
   "execution_count": 3,
   "metadata": {},
   "outputs": [],
   "source": [
    "assert max(calcGame(9, 25)) == 32"
   ]
  },
  {
   "cell_type": "code",
   "execution_count": 4,
   "metadata": {},
   "outputs": [],
   "source": [
    "assert max(calcGame(10,1618)) == 8317"
   ]
  },
  {
   "cell_type": "code",
   "execution_count": 5,
   "metadata": {},
   "outputs": [],
   "source": [
    "assert max(calcGame(13,7999)) == 146373"
   ]
  },
  {
   "cell_type": "code",
   "execution_count": 6,
   "metadata": {},
   "outputs": [],
   "source": [
    "assert max(calcGame(17,1104)) == 2764"
   ]
  },
  {
   "cell_type": "code",
   "execution_count": 7,
   "metadata": {},
   "outputs": [],
   "source": [
    "assert max(calcGame(21,6111)) == 54718"
   ]
  },
  {
   "cell_type": "code",
   "execution_count": 8,
   "metadata": {},
   "outputs": [],
   "source": [
    "assert max(calcGame(30,5807)) == 37305"
   ]
  },
  {
   "cell_type": "code",
   "execution_count": 9,
   "metadata": {},
   "outputs": [
    {
     "data": {
      "text/plain": [
       "428690"
      ]
     },
     "execution_count": 9,
     "metadata": {},
     "output_type": "execute_result"
    }
   ],
   "source": [
    "max(calcGame(405,71700))"
   ]
  },
  {
   "cell_type": "code",
   "execution_count": 10,
   "metadata": {},
   "outputs": [
    {
     "data": {
      "text/plain": [
       "3628143500"
      ]
     },
     "execution_count": 10,
     "metadata": {},
     "output_type": "execute_result"
    }
   ],
   "source": [
    "max(calcGame(405,7170000))"
   ]
  }
 ],
 "metadata": {
  "kernelspec": {
   "display_name": "Python 3",
   "language": "python",
   "name": "python3"
  },
  "language_info": {
   "codemirror_mode": {
    "name": "ipython",
    "version": 3
   },
   "file_extension": ".py",
   "mimetype": "text/x-python",
   "name": "python",
   "nbconvert_exporter": "python",
   "pygments_lexer": "ipython3",
   "version": "3.7.0"
  }
 },
 "nbformat": 4,
 "nbformat_minor": 2
}
