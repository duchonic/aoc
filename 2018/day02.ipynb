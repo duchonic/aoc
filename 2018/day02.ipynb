{
 "cells": [
  {
   "cell_type": "code",
   "execution_count": 7,
   "metadata": {},
   "outputs": [],
   "source": [
    "data = open('data/day2.txt','r')"
   ]
  },
  {
   "cell_type": "code",
   "execution_count": 8,
   "metadata": {},
   "outputs": [],
   "source": [
    "stats = dict()\n",
    "lineAct = 0\n",
    "checksum = dict()\n",
    "\n",
    "for line in data:\n",
    "    lineAct += 1\n",
    "    stats[lineAct] = {}\n",
    "        \n",
    "    for letter in line:\n",
    "        try:\n",
    "            stats[lineAct][letter] += 1\n",
    "        except:\n",
    "            stats[lineAct][letter] = 1"
   ]
  },
  {
   "cell_type": "code",
   "execution_count": 9,
   "metadata": {},
   "outputs": [],
   "source": [
    "for item in stats:\n",
    "    #print(stats[item])\n",
    "    for letter in stats[item]:\n",
    "        pass\n",
    "        if stats[item][letter] > 1:\n",
    "            pass\n",
    "            #print(letter, stats[item][letter])"
   ]
  },
  {
   "cell_type": "code",
   "execution_count": 10,
   "metadata": {},
   "outputs": [
    {
     "name": "stdout",
     "output_type": "stream",
     "text": [
      "249\n"
     ]
    }
   ],
   "source": [
    "#twos\n",
    "twos = 0\n",
    "for item in stats:\n",
    "    #print(stats[item])\n",
    "    for letter in stats[item]:\n",
    "        if stats[item][letter] == 2:\n",
    "            twos += 1\n",
    "            break\n",
    "print(twos)"
   ]
  },
  {
   "cell_type": "code",
   "execution_count": 11,
   "metadata": {},
   "outputs": [
    {
     "name": "stdout",
     "output_type": "stream",
     "text": [
      "22\n"
     ]
    }
   ],
   "source": [
    "#threes\n",
    "threes = 0\n",
    "for item in stats:\n",
    "    for letter in stats[item]:\n",
    "        if stats[item][letter] == 3:\n",
    "            threes += 1\n",
    "            break\n",
    "print(threes)"
   ]
  },
  {
   "cell_type": "code",
   "execution_count": 12,
   "metadata": {},
   "outputs": [
    {
     "data": {
      "text/plain": [
       "5478"
      ]
     },
     "execution_count": 12,
     "metadata": {},
     "output_type": "execute_result"
    }
   ],
   "source": [
    "twos * threes"
   ]
  }
 ],
 "metadata": {
  "kernelspec": {
   "display_name": "Python 3",
   "language": "python",
   "name": "python3"
  },
  "language_info": {
   "codemirror_mode": {
    "name": "ipython",
    "version": 3
   },
   "file_extension": ".py",
   "mimetype": "text/x-python",
   "name": "python",
   "nbconvert_exporter": "python",
   "pygments_lexer": "ipython3",
   "version": "3.6.5"
  }
 },
 "nbformat": 4,
 "nbformat_minor": 2
}
