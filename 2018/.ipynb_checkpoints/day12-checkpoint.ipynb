{
 "cells": [
  {
   "cell_type": "markdown",
   "metadata": {},
   "source": [
    "```\n",
    "\n",
    "--- Day 12: Subterranean Sustainability ---\n",
    "\n",
    "The year 518 is significantly more underground than your history books implied. Either that, or you've arrived in a vast cavern network under the North Pole.\n",
    "\n",
    "After exploring a little, you discover a long tunnel that contains a row of small pots as far as you can see to your left and right. A few of them contain plants - someone is trying to grow things in these geothermally-heated caves.\n",
    "\n",
    "The pots are numbered, with 0 in front of you. To the left, the pots are numbered -1, -2, -3, and so on; to the right, 1, 2, 3.... Your puzzle input contains a list of pots from 0 to the right and whether they do (#) or do not (.) currently contain a plant, the initial state. (No other pots currently contain plants.) For example, an initial state of #..##.... indicates that pots 0, 3, and 4 currently contain plants.\n",
    "\n",
    "Your puzzle input also contains some notes you find on a nearby table: someone has been trying to figure out how these plants spread to nearby pots. Based on the notes, for each generation of plants, a given pot has or does not have a plant based on whether that pot (and the two pots on either side of it) had a plant in the last generation. These are written as LLCRR => N, where L are pots to the left, C is the current pot being considered, R are the pots to the right, and N is whether the current pot will have a plant in the next generation. For example:\n",
    "\n",
    "    A note like ..#.. => . means that a pot that contains a plant but with no plants within two pots of it will not have a plant in it during the next generation.\n",
    "    A note like ##.## => . means that an empty pot with two plants on each side of it will remain empty in the next generation.\n",
    "    A note like .##.# => # means that a pot has a plant in a given generation if, in the previous generation, there were plants in that pot, the one immediately to the left, and the one two pots to the right, but not in the ones immediately to the right and two to the left.\n",
    "\n",
    "It's not clear what these plants are for, but you're sure it's important, so you'd like to make sure the current configuration of plants is sustainable by determining what will happen after 20 generations.\n",
    "\n",
    "For example, given the following input:\n",
    "\n",
    "initial state: #..#.#..##......###...###\n",
    "\n",
    "...## => #\n",
    "..#.. => #\n",
    ".#... => #\n",
    ".#.#. => #\n",
    ".#.## => #\n",
    ".##.. => #\n",
    ".#### => #\n",
    "#.#.# => #\n",
    "#.### => #\n",
    "##.#. => #\n",
    "##.## => #\n",
    "###.. => #\n",
    "###.# => #\n",
    "####. => #\n",
    "\n",
    "For brevity, in this example, only the combinations which do produce a plant are listed. (Your input includes all possible combinations.) Then, the next 20 generations will look like this:\n",
    "\n",
    "                 1         2         3     \n",
    "       0         0         0         0     \n",
    " 0: ...#..#.#..##......###...###...........\n",
    " 1: ...#...#....#.....#..#..#..#...........\n",
    " 2: ...##..##...##....#..#..#..##..........\n",
    " 3: ..#.#...#..#.#....#..#..#...#..........\n",
    " 4: ...#.#..#...#.#...#..#..##..##.........\n",
    " 5: ....#...##...#.#..#..#...#...#.........\n",
    " 6: ....##.#.#....#...#..##..##..##........\n",
    " 7: ...#..###.#...##..#...#...#...#........\n",
    " 8: ...#....##.#.#.#..##..##..##..##.......\n",
    " 9: ...##..#..#####....#...#...#...#.......\n",
    "10: ..#.#..#...#.##....##..##..##..##......\n",
    "11: ...#...##...#.#...#.#...#...#...#......\n",
    "12: ...##.#.#....#.#...#.#..##..##..##.....\n",
    "13: ..#..###.#....#.#...#....#...#...#.....\n",
    "14: ..#....##.#....#.#..##...##..##..##....\n",
    "15: ..##..#..#.#....#....#..#.#...#...#....\n",
    "16: .#.#..#...#.#...##...#...#.#..##..##...\n",
    "17: ..#...##...#.#.#.#...##...#....#...#...\n",
    "18: ..##.#.#....#####.#.#.#...##...##..##..\n",
    "19: .#..###.#..#.#.#######.#.#.#..#.#...#..\n",
    "20: .#....##....#####...#######....#.#..##.\n",
    "\n",
    "The generation is shown along the left, where 0 is the initial state. The pot numbers are shown along the top, where 0 labels the center pot, negative-numbered pots extend to the left, and positive pots extend toward the right. Remember, the initial state begins at pot 0, which is not the leftmost pot used in this example.\n",
    "\n",
    "After one generation, only seven plants remain. The one in pot 0 matched the rule looking for ..#.., the one in pot 4 matched the rule looking for .#.#., pot 9 matched .##.., and so on.\n",
    "\n",
    "In this example, after 20 generations, the pots shown as # contain plants, the furthest left of which is pot -2, and the furthest right of which is pot 34. Adding up all the numbers of plant-containing pots after the 20th generation produces 325.\n",
    "\n",
    "After 20 generations, what is the sum of the numbers of all pots which contain a plant?\n",
    "\n",
    "```"
   ]
  },
  {
   "cell_type": "code",
   "execution_count": 1,
   "metadata": {},
   "outputs": [],
   "source": [
    "def checkPlant(input) -> str:\n",
    "    for item in actionsRaw:\n",
    "        if input == item[0:5]:\n",
    "            return item[-1]\n",
    "    return '.'"
   ]
  },
  {
   "cell_type": "code",
   "execution_count": 2,
   "metadata": {},
   "outputs": [],
   "source": [
    "testRaw = \".##..##..####..#.#.#.###....#...#..#.#.#..#...#....##.#.#.#.#.#..######.##....##.###....##..#.####.#\"\n",
    "\n",
    "\n",
    "\n",
    "actionsRaw = \"\"\"\n",
    ".#... => #\n",
    "#.... => .\n",
    "#.### => .\n",
    "#.##. => .\n",
    "#...# => .\n",
    "...#. => .\n",
    ".#..# => #\n",
    ".#### => #\n",
    ".###. => .\n",
    "###.. => #\n",
    "##### => .\n",
    "....# => .\n",
    ".#.## => #\n",
    "####. => .\n",
    "##.#. => #\n",
    "#.#.# => #\n",
    "..#.# => .\n",
    ".#.#. => #\n",
    "###.# => #\n",
    "##.## => .\n",
    "..#.. => .\n",
    "..... => .\n",
    "..### => #\n",
    "#..## => #\n",
    "##... => #\n",
    "...## => #\n",
    "##..# => .\n",
    ".##.. => #\n",
    "#..#. => .\n",
    "#.#.. => #\n",
    ".##.# => .\n",
    "..##. => .\n",
    "\"\"\".split('\\n')"
   ]
  },
  {
   "cell_type": "code",
   "execution_count": 3,
   "metadata": {},
   "outputs": [],
   "source": [
    "def sumPlants(data,border):\n",
    "    summe = 0\n",
    "    index = -border\n",
    "    for letter in data:\n",
    "        if letter == '#':\n",
    "            summe += index\n",
    "        index += 1\n",
    "    return summe"
   ]
  },
  {
   "cell_type": "code",
   "execution_count": 49,
   "metadata": {},
   "outputs": [
    {
     "name": "stdout",
     "output_type": "stream",
     "text": [
      "gen: 1000 sum: 56972 diff: 56972\n",
      "gen: 2000 sum: 111972 diff: 55000\n",
      "gen: 3000 sum: 163872 diff: 51900\n",
      "gen: 4000 sum: 9286 diff: -154586\n"
     ]
    },
    {
     "ename": "KeyboardInterrupt",
     "evalue": "",
     "output_type": "error",
     "traceback": [
      "\u001b[0;31m---------------------------------------------------------------------------\u001b[0m",
      "\u001b[0;31mKeyboardInterrupt\u001b[0m                         Traceback (most recent call last)",
      "\u001b[0;32m<ipython-input-49-8d10fcb3def3>\u001b[0m in \u001b[0;36m<module>\u001b[0;34m()\u001b[0m\n\u001b[1;32m     23\u001b[0m     \u001b[0;32mfor\u001b[0m \u001b[0mi\u001b[0m \u001b[0;32min\u001b[0m \u001b[0mrange\u001b[0m\u001b[0;34m(\u001b[0m\u001b[0mlen\u001b[0m\u001b[0;34m(\u001b[0m\u001b[0mdata\u001b[0m\u001b[0;34m)\u001b[0m\u001b[0;34m-\u001b[0m\u001b[0;36m2\u001b[0m\u001b[0;34m)\u001b[0m\u001b[0;34m:\u001b[0m\u001b[0;34m\u001b[0m\u001b[0m\n\u001b[1;32m     24\u001b[0m         \u001b[0mcheckData\u001b[0m \u001b[0;34m=\u001b[0m \u001b[0;34m\"\"\u001b[0m\u001b[0;34m.\u001b[0m\u001b[0mjoin\u001b[0m\u001b[0;34m(\u001b[0m\u001b[0mstr\u001b[0m\u001b[0;34m(\u001b[0m\u001b[0mx\u001b[0m\u001b[0;34m)\u001b[0m \u001b[0;32mfor\u001b[0m \u001b[0mx\u001b[0m \u001b[0;32min\u001b[0m \u001b[0mdata\u001b[0m\u001b[0;34m[\u001b[0m\u001b[0mi\u001b[0m\u001b[0;34m:\u001b[0m\u001b[0mi\u001b[0m\u001b[0;34m+\u001b[0m\u001b[0;36m5\u001b[0m\u001b[0;34m]\u001b[0m\u001b[0;34m)\u001b[0m\u001b[0;34m\u001b[0m\u001b[0m\n\u001b[0;32m---> 25\u001b[0;31m         \u001b[0mresult\u001b[0m\u001b[0;34m.\u001b[0m\u001b[0mappend\u001b[0m\u001b[0;34m(\u001b[0m\u001b[0mcheckPlant\u001b[0m\u001b[0;34m(\u001b[0m\u001b[0mcheckData\u001b[0m\u001b[0;34m)\u001b[0m\u001b[0;34m)\u001b[0m\u001b[0;34m\u001b[0m\u001b[0m\n\u001b[0m\u001b[1;32m     26\u001b[0m \u001b[0;34m\u001b[0m\u001b[0m\n\u001b[1;32m     27\u001b[0m     \u001b[0mdata\u001b[0m \u001b[0;34m=\u001b[0m \u001b[0mdict\u001b[0m\u001b[0;34m(\u001b[0m\u001b[0;34m)\u001b[0m\u001b[0;34m\u001b[0m\u001b[0m\n",
      "\u001b[0;32m<ipython-input-1-fea186c665d9>\u001b[0m in \u001b[0;36mcheckPlant\u001b[0;34m(input)\u001b[0m\n\u001b[1;32m      1\u001b[0m \u001b[0;32mdef\u001b[0m \u001b[0mcheckPlant\u001b[0m\u001b[0;34m(\u001b[0m\u001b[0minput\u001b[0m\u001b[0;34m)\u001b[0m \u001b[0;34m->\u001b[0m \u001b[0mstr\u001b[0m\u001b[0;34m:\u001b[0m\u001b[0;34m\u001b[0m\u001b[0m\n\u001b[1;32m      2\u001b[0m     \u001b[0;32mfor\u001b[0m \u001b[0mitem\u001b[0m \u001b[0;32min\u001b[0m \u001b[0mactionsRaw\u001b[0m\u001b[0;34m:\u001b[0m\u001b[0;34m\u001b[0m\u001b[0m\n\u001b[0;32m----> 3\u001b[0;31m         \u001b[0;32mif\u001b[0m \u001b[0minput\u001b[0m \u001b[0;34m==\u001b[0m \u001b[0mitem\u001b[0m\u001b[0;34m[\u001b[0m\u001b[0;36m0\u001b[0m\u001b[0;34m:\u001b[0m\u001b[0;36m5\u001b[0m\u001b[0;34m]\u001b[0m\u001b[0;34m:\u001b[0m\u001b[0;34m\u001b[0m\u001b[0m\n\u001b[0m\u001b[1;32m      4\u001b[0m             \u001b[0;32mreturn\u001b[0m \u001b[0mitem\u001b[0m\u001b[0;34m[\u001b[0m\u001b[0;34m-\u001b[0m\u001b[0;36m1\u001b[0m\u001b[0;34m]\u001b[0m\u001b[0;34m\u001b[0m\u001b[0m\n\u001b[1;32m      5\u001b[0m     \u001b[0;32mreturn\u001b[0m \u001b[0;34m'.'\u001b[0m\u001b[0;34m\u001b[0m\u001b[0m\n",
      "\u001b[0;31mKeyboardInterrupt\u001b[0m: "
     ]
    }
   ],
   "source": [
    "data = list()\n",
    "\n",
    "border = 5\n",
    "borderRight = 3000\n",
    "\n",
    "for blub in range(border):\n",
    "    data.append('.')\n",
    "\n",
    "for letter in testRaw:\n",
    "    data.append(letter) \n",
    "    \n",
    "for blub in range(borderRight):\n",
    "    data.append('.')\n",
    "\n",
    "index = 0\n",
    "summeOld = 0\n",
    "sumPlant = 0\n",
    "\n",
    "for generations in range(1,10_001,1):\n",
    "    result = list()\n",
    "    result.append('.')\n",
    "    result.append('.')\n",
    "    for i in range(len(data)-2):    \n",
    "        checkData = \"\".join(str(x) for x in data[i:i+5])\n",
    "        result.append(checkPlant(checkData))\n",
    "\n",
    "    data = dict()\n",
    "    data = result.copy()    \n",
    "    \n",
    "    if generations%1000 == 0:\n",
    "        sumPlant = sumPlants(result,border)\n",
    "        print('gen:', generations, 'sum:', sumPlant, 'diff:', sumPlant-summeOld)\n",
    "        summeOld = sumPlant"
   ]
  },
  {
   "cell_type": "code",
   "execution_count": 6,
   "metadata": {},
   "outputs": [
    {
     "name": "stdout",
     "output_type": "stream",
     "text": [
      "....#....######.##....#....###...#.##...#..#..#..#..###.#...#.##...#.##...#...###.##...#...###.#......#......#...##.##...#.##........................................................................................................................................................................................................................................................................................................................................................................................................................................................................................................................................................................................................................................................................................................................................................................................................................................................................................................................................................................................................................................................................................................................................................................................................................................................................................................................................................................................................................................................................................................................................\n",
      "2823\n"
     ]
    }
   ],
   "source": [
    "print(\"\".join(str(x) for x in result))  \n",
    "print(sumPlants(result,border))"
   ]
  },
  {
   "cell_type": "code",
   "execution_count": 50,
   "metadata": {},
   "outputs": [],
   "source": [
    "tatalTo2000 = 111972"
   ]
  },
  {
   "cell_type": "code",
   "execution_count": 51,
   "metadata": {},
   "outputs": [],
   "source": [
    "generationsLeft = 50_000_000_000 - 2000"
   ]
  },
  {
   "cell_type": "code",
   "execution_count": 53,
   "metadata": {},
   "outputs": [
    {
     "name": "stdout",
     "output_type": "stream",
     "text": [
      "49999998000\n"
     ]
    }
   ],
   "source": [
    "print(generationsLeft)"
   ]
  },
  {
   "cell_type": "code",
   "execution_count": 54,
   "metadata": {},
   "outputs": [],
   "source": [
    "totalplants = (generationsLeft*55)"
   ]
  },
  {
   "cell_type": "code",
   "execution_count": 55,
   "metadata": {},
   "outputs": [
    {
     "name": "stdout",
     "output_type": "stream",
     "text": [
      "2749999890000\n"
     ]
    }
   ],
   "source": [
    "print(totalplants)"
   ]
  },
  {
   "cell_type": "code",
   "execution_count": 58,
   "metadata": {},
   "outputs": [
    {
     "name": "stdout",
     "output_type": "stream",
     "text": [
      "27500002259160\n"
     ]
    }
   ],
   "source": [
    "totalplants += tatalTo2000\n",
    "print(totalplants*10)"
   ]
  },
  {
   "cell_type": "code",
   "execution_count": null,
   "metadata": {},
   "outputs": [],
   "source": []
  }
 ],
 "metadata": {
  "kernelspec": {
   "display_name": "Python 3",
   "language": "python",
   "name": "python3"
  },
  "language_info": {
   "codemirror_mode": {
    "name": "ipython",
    "version": 3
   },
   "file_extension": ".py",
   "mimetype": "text/x-python",
   "name": "python",
   "nbconvert_exporter": "python",
   "pygments_lexer": "ipython3",
   "version": "3.7.0"
  }
 },
 "nbformat": 4,
 "nbformat_minor": 2
}
