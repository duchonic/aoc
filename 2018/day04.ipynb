{
 "cells": [
  {
   "cell_type": "markdown",
   "metadata": {},
   "source": [
    "```\n",
    "--- Day 4: Repose Record ---\n",
    "You've sneaked into another supply closet - this time, it's across from the prototype suit manufacturing lab. You need to sneak inside and fix the issues with the suit, but there's a guard stationed outside the lab, so this is as close as you can safely get.\n",
    "\n",
    "As you search the closet for anything that might help, you discover that you're not the first person to want to sneak in. Covering the walls, someone has spent an hour starting every midnight for the past few months secretly observing this guard post! They've been writing down the ID of the one guard on duty that night - the Elves seem to have decided that one guard was enough for the overnight shift - as well as when they fall asleep or wake up while at their post (your puzzle input).\n",
    "\n",
    "For example, consider the following records, which have already been organized into chronological order:\n",
    "\n",
    "[1518-11-01 00:00] Guard #10 begins shift\n",
    "[1518-11-01 00:05] falls asleep\n",
    "[1518-11-01 00:25] wakes up\n",
    "[1518-11-01 00:30] falls asleep\n",
    "[1518-11-01 00:55] wakes up\n",
    "[1518-11-01 23:58] Guard #99 begins shift\n",
    "[1518-11-02 00:40] falls asleep\n",
    "[1518-11-02 00:50] wakes up\n",
    "[1518-11-03 00:05] Guard #10 begins shift\n",
    "[1518-11-03 00:24] falls asleep\n",
    "[1518-11-03 00:29] wakes up\n",
    "[1518-11-04 00:02] Guard #99 begins shift\n",
    "[1518-11-04 00:36] falls asleep\n",
    "[1518-11-04 00:46] wakes up\n",
    "[1518-11-05 00:03] Guard #99 begins shift\n",
    "[1518-11-05 00:45] falls asleep\n",
    "[1518-11-05 00:55] wakes up\n",
    "\n",
    "Timestamps are written using year-month-day hour:minute format. The guard falling asleep or waking up is always the one whose shift most recently started. Because all asleep/awake times are during the midnight hour (00:00 - 00:59), only the minute portion (00 - 59) is relevant for those events.\n",
    "\n",
    "Visually, these records show that the guards are asleep at these times:\n",
    "\n",
    "Date   ID   Minute\n",
    "            000000000011111111112222222222333333333344444444445555555555\n",
    "            012345678901234567890123456789012345678901234567890123456789\n",
    "11-01  #10  .....####################.....#########################.....\n",
    "11-02  #99  ........................................##########..........\n",
    "11-03  #10  ........................#####...............................\n",
    "11-04  #99  ....................................##########..............\n",
    "11-05  #99  .............................................##########.....\n",
    "\n",
    "The columns are Date, which shows the month-day portion of the relevant day; ID, which shows the guard on duty that day; and Minute, which shows the minutes during which the guard was asleep within the midnight hour. (The Minute column's header shows the minute's ten's digit in the first row and the one's digit in the second row.) Awake is shown as ., and asleep is shown as #.\n",
    "\n",
    "Note that guards count as asleep on the minute they fall asleep, and they count as awake on the minute they wake up. For example, because Guard #10 wakes up at 00:25 on 1518-11-01, minute 25 is marked as awake.\n",
    "\n",
    "If you can figure out the guard most likely to be asleep at a specific time, you might be able to trick that guard into working tonight so you can have the best chance of sneaking in. You have two strategies for choosing the best guard/minute combination.\n",
    "\n",
    "Strategy 1: Find the guard that has the most minutes asleep. What minute does that guard spend asleep the most?\n",
    "\n",
    "In the example above, Guard #10 spent the most minutes asleep, a total of 50 minutes (20+25+5), while Guard #99 only slept for a total of 30 minutes (10+10+10). Guard #10 was asleep most during minute 24 (on two days, whereas any other minute the guard was asleep was only seen on one day).\n",
    "\n",
    "While this example listed the entries in chronological order, your entries are in the order you found them. You'll need to organize them before they can be analyzed.\n",
    "\n",
    "What is the ID of the guard you chose multiplied by the minute you chose? (In the above example, the answer would be 10 * 24 = 240.)\n",
    "\n",
    "Your puzzle answer was 104764.\n",
    "\n",
    "--- Part Two ---\n",
    "Strategy 2: Of all guards, which guard is most frequently asleep on the same minute?\n",
    "\n",
    "In the example above, Guard #99 spent minute 45 asleep more than any other guard or minute - three times in total. (In all other cases, any guard spent any minute asleep at most twice.)\n",
    "\n",
    "What is the ID of the guard you chose multiplied by the minute you chose? (In the above example, the answer would be 99 * 45 = 4455.)\n",
    "\n",
    "Your puzzle answer was 128617.\n",
    "```"
   ]
  },
  {
   "cell_type": "code",
   "execution_count": 7,
   "metadata": {},
   "outputs": [],
   "source": [
    "data = open('data/day4.txt', 'r')\n",
    "\n",
    "workingData = list()\n",
    "\n",
    "for line in data:\n",
    "    workingData.append(line.replace('\\n','').split() )"
   ]
  },
  {
   "cell_type": "code",
   "execution_count": 8,
   "metadata": {},
   "outputs": [
    {
     "name": "stdout",
     "output_type": "stream",
     "text": [
      "init:  691\n",
      "init:  2579\n",
      "init:  331\n",
      "init:  1097\n",
      "init:  797\n",
      "init:  3119\n",
      "init:  3083\n",
      "init:  3137\n",
      "init:  431\n",
      "init:  3011\n",
      "init:  2381\n",
      "init:  1039\n",
      "init:  373\n",
      "init:  1601\n",
      "init:  2969\n",
      "init:  2887\n",
      "init:  1249\n",
      "init:  89\n",
      "init:  3089\n",
      "init:  1559\n"
     ]
    }
   ],
   "source": [
    "import datetime\n",
    "\n",
    "workingData = sorted(workingData)\n",
    "\n",
    "#print(workingData)\n",
    "\n",
    "guards = dict()\n",
    "actGuard = 0\n",
    "timeStart = 0\n",
    "\n",
    "sleeps = list()\n",
    "\n",
    "guardMinutes = dict()\n",
    "\n",
    "\n",
    "for i in range(60):\n",
    "    sleeps.append(0)\n",
    "\n",
    "for item in workingData:\n",
    "    \n",
    "    \n",
    "    \n",
    "    if item[2] == 'Guard':\n",
    "        \n",
    "        actualGuard = item[3].replace('#','')\n",
    "                \n",
    "        try: \n",
    "            guards[actualGuard] += 0\n",
    "        except:\n",
    "            guards[actualGuard] = 0\n",
    "        #print('actual guard selected')\n",
    "        \n",
    "    if item[2] == 'falls':        \n",
    "        timeString = (item[0] + ' ' + item[1]).replace('[','').replace(']','') \n",
    "        timeStart =  datetime.datetime.strptime(timeString, '%Y-%m-%d %H:%M') \n",
    "        \n",
    "    if item[2] == 'wakes':\n",
    "        timeString = (item[0] + ' ' + item[1]).replace('[','').replace(']','') \n",
    "        timeEnd = datetime.datetime.strptime(timeString, '%Y-%m-%d %H:%M') \n",
    "        timediff = ( timeEnd - timeStart ).total_seconds() / 60\n",
    "\n",
    "        guards[actualGuard] += timediff\n",
    "        \n",
    "        assert timeStart.minute < timeEnd.minute\n",
    "        \n",
    "        try:\n",
    "            guardMinutes[actualGuard][0] += 0\n",
    "        except:\n",
    "            print('init: ', actualGuard)\n",
    "            guardMinutes[actualGuard] = list()\n",
    "            for i in range(60):\n",
    "                guardMinutes[actualGuard].append(0)\n",
    "            \n",
    "            \n",
    "        for i in range(timeStart.minute, timeEnd.minute):\n",
    "            guardMinutes[actualGuard][i] += 1        \n",
    "       "
   ]
  },
  {
   "cell_type": "code",
   "execution_count": 9,
   "metadata": {},
   "outputs": [
    {
     "name": "stdout",
     "output_type": "stream",
     "text": [
      "691 [0, 0, 0, 0, 0, 1, 1, 1, 1, 2, 2, 3, 4, 4, 4, 5, 5, 5, 5, 5, 5, 5, 5, 5, 4, 4, 5, 6, 5, 5, 6, 6, 6, 6, 6, 5, 5, 4, 5, 4, 4, 3, 3, 4, 4, 4, 3, 3, 3, 2, 2, 2, 2, 2, 3, 2, 4, 1, 1, 0]\n",
      "2579 [0, 1, 2, 2, 2, 2, 2, 3, 4, 4, 4, 5, 6, 7, 8, 9, 9, 9, 10, 9, 9, 9, 9, 8, 8, 8, 8, 8, 9, 9, 9, 8, 9, 11, 11, 11, 11, 12, 12, 12, 12, 12, 12, 12, 11, 10, 10, 8, 7, 7, 6, 7, 7, 5, 6, 5, 1, 1, 0, 0]\n",
      "331 [0, 0, 0, 0, 0, 0, 0, 0, 0, 1, 1, 2, 2, 2, 2, 2, 2, 2, 3, 3, 4, 5, 5, 5, 5, 7, 7, 7, 7, 6, 6, 6, 7, 7, 7, 7, 7, 7, 7, 7, 7, 7, 6, 6, 6, 6, 6, 5, 5, 5, 5, 6, 5, 5, 5, 2, 2, 4, 1, 0]\n",
      "1097 [2, 1, 4, 6, 6, 5, 5, 5, 5, 6, 6, 7, 7, 8, 8, 9, 10, 10, 10, 10, 10, 11, 10, 10, 10, 11, 9, 9, 8, 8, 8, 8, 9, 10, 10, 10, 11, 13, 14, 13, 13, 11, 12, 12, 12, 12, 10, 9, 8, 8, 7, 6, 6, 6, 5, 5, 4, 4, 3, 0]\n",
      "797 [0, 1, 1, 1, 1, 2, 2, 3, 2, 2, 2, 2, 3, 3, 5, 5, 6, 6, 7, 8, 8, 8, 9, 7, 7, 7, 8, 8, 8, 8, 8, 6, 5, 6, 6, 6, 7, 8, 8, 9, 8, 8, 5, 5, 6, 6, 6, 6, 5, 5, 6, 5, 4, 3, 4, 4, 3, 2, 1, 0]\n",
      "3119 [1, 1, 1, 1, 1, 1, 2, 3, 5, 6, 6, 6, 6, 7, 6, 6, 8, 9, 8, 7, 7, 7, 7, 7, 7, 7, 7, 7, 8, 10, 10, 10, 9, 9, 9, 9, 9, 8, 8, 9, 9, 8, 9, 8, 4, 3, 3, 3, 2, 2, 2, 3, 3, 2, 2, 2, 1, 0, 0, 0]\n",
      "3083 [0, 1, 1, 2, 2, 4, 5, 5, 6, 6, 8, 8, 7, 7, 7, 9, 9, 9, 9, 10, 10, 10, 10, 11, 11, 11, 10, 11, 12, 11, 11, 10, 10, 9, 10, 9, 10, 11, 11, 11, 11, 10, 10, 11, 10, 9, 9, 8, 9, 9, 8, 9, 8, 7, 6, 5, 3, 1, 0, 0]\n",
      "3137 [0, 0, 1, 1, 2, 3, 3, 4, 4, 4, 4, 5, 5, 5, 5, 5, 5, 5, 5, 5, 6, 6, 6, 6, 9, 10, 10, 11, 11, 10, 10, 13, 13, 14, 14, 14, 11, 10, 11, 14, 15, 20, 19, 18, 16, 15, 12, 11, 10, 11, 11, 8, 6, 6, 6, 6, 5, 5, 3, 0]\n",
      "431 [0, 0, 0, 1, 1, 1, 2, 3, 5, 5, 5, 5, 5, 5, 5, 5, 6, 7, 7, 8, 8, 8, 8, 8, 8, 8, 9, 9, 9, 8, 7, 7, 7, 8, 6, 5, 5, 6, 7, 7, 8, 7, 7, 7, 8, 7, 7, 7, 8, 8, 4, 6, 8, 7, 5, 6, 3, 1, 1, 0]\n",
      "3011 [0, 0, 0, 0, 0, 2, 2, 2, 2, 2, 2, 2, 3, 3, 3, 3, 3, 3, 4, 4, 4, 4, 4, 4, 5, 5, 4, 4, 4, 4, 4, 4, 4, 4, 4, 5, 5, 5, 6, 6, 6, 5, 5, 5, 5, 5, 5, 5, 4, 3, 3, 3, 1, 2, 1, 0, 0, 0, 0, 0]\n",
      "2381 [0, 0, 1, 1, 1, 2, 3, 4, 5, 5, 5, 7, 7, 7, 8, 8, 8, 9, 8, 8, 8, 8, 8, 7, 8, 8, 9, 9, 9, 12, 12, 13, 13, 14, 13, 15, 17, 16, 16, 15, 16, 16, 16, 17, 18, 17, 12, 12, 12, 12, 11, 10, 9, 9, 9, 7, 3, 3, 2, 0]\n",
      "1039 [0, 0, 0, 0, 0, 0, 0, 0, 0, 0, 0, 0, 0, 0, 1, 1, 1, 2, 1, 1, 1, 2, 2, 2, 2, 2, 3, 3, 4, 5, 6, 7, 6, 6, 5, 3, 2, 2, 2, 2, 2, 2, 2, 3, 3, 2, 2, 2, 2, 2, 2, 2, 1, 1, 0, 1, 0, 0, 0, 0]\n",
      "373 [1, 2, 2, 3, 2, 2, 2, 2, 2, 1, 1, 1, 1, 1, 1, 2, 3, 4, 4, 4, 4, 4, 6, 7, 7, 7, 7, 8, 8, 8, 8, 10, 11, 12, 12, 11, 11, 11, 10, 8, 7, 6, 6, 5, 4, 5, 6, 6, 6, 5, 4, 4, 4, 2, 3, 3, 2, 1, 0, 0]\n",
      "1601 [0, 0, 1, 2, 2, 2, 2, 3, 3, 3, 2, 4, 4, 5, 5, 5, 6, 6, 7, 8, 9, 9, 9, 9, 8, 9, 11, 11, 11, 12, 11, 11, 10, 10, 11, 11, 11, 12, 12, 13, 13, 12, 11, 12, 12, 13, 14, 15, 15, 15, 14, 14, 9, 9, 9, 6, 5, 3, 1, 0]\n",
      "2969 [0, 0, 0, 0, 0, 0, 0, 0, 0, 0, 0, 0, 0, 0, 0, 0, 1, 2, 3, 4, 3, 3, 3, 3, 3, 2, 3, 5, 4, 3, 3, 3, 3, 4, 5, 5, 5, 6, 5, 5, 5, 7, 6, 5, 5, 5, 5, 5, 6, 6, 6, 6, 6, 7, 8, 6, 4, 3, 2, 0]\n",
      "2887 [0, 0, 0, 0, 0, 0, 0, 0, 0, 0, 0, 0, 0, 0, 0, 1, 1, 1, 1, 2, 2, 2, 2, 3, 3, 3, 3, 4, 5, 6, 6, 6, 7, 6, 6, 6, 6, 6, 6, 6, 6, 6, 6, 6, 6, 6, 7, 6, 6, 7, 7, 6, 5, 5, 6, 4, 4, 3, 1, 0]\n",
      "1249 [0, 0, 0, 1, 1, 1, 1, 1, 1, 3, 4, 5, 5, 7, 9, 10, 10, 11, 12, 11, 10, 10, 10, 9, 9, 10, 10, 10, 11, 11, 11, 12, 12, 12, 11, 11, 13, 12, 11, 11, 11, 11, 9, 10, 11, 11, 10, 9, 7, 6, 5, 4, 5, 4, 3, 4, 3, 4, 2, 0]\n",
      "89 [0, 0, 1, 1, 1, 0, 0, 1, 1, 2, 2, 2, 2, 4, 4, 3, 4, 4, 5, 6, 6, 7, 7, 8, 7, 7, 7, 8, 7, 8, 8, 9, 9, 10, 10, 10, 10, 9, 9, 10, 10, 10, 11, 11, 10, 9, 7, 7, 7, 6, 4, 4, 3, 2, 1, 1, 1, 1, 1, 0]\n",
      "3089 [1, 2, 2, 3, 3, 3, 3, 3, 3, 4, 4, 4, 5, 5, 5, 6, 6, 6, 5, 5, 5, 5, 6, 6, 6, 6, 6, 6, 5, 5, 6, 6, 7, 7, 7, 7, 7, 8, 8, 7, 7, 9, 7, 7, 7, 8, 9, 8, 8, 8, 8, 7, 4, 4, 4, 4, 1, 0, 0, 0]\n",
      "1559 [1, 1, 1, 1, 1, 1, 1, 1, 1, 2, 3, 2, 2, 2, 2, 2, 2, 2, 3, 3, 3, 4, 5, 5, 5, 5, 5, 5, 6, 6, 5, 5, 6, 7, 7, 7, 6, 6, 6, 6, 6, 6, 5, 4, 4, 5, 5, 6, 5, 7, 7, 7, 7, 6, 5, 4, 3, 3, 2, 0]\n"
     ]
    }
   ],
   "source": [
    "for entry in guardMinutes:\n",
    "    print(entry, guardMinutes[entry])"
   ]
  },
  {
   "cell_type": "code",
   "execution_count": 10,
   "metadata": {},
   "outputs": [
    {
     "name": "stdout",
     "output_type": "stream",
     "text": [
      "104764\n"
     ]
    }
   ],
   "source": [
    "print(44*2381)"
   ]
  }
 ],
 "metadata": {
  "kernelspec": {
   "display_name": "Python 3",
   "language": "python",
   "name": "python3"
  },
  "language_info": {
   "codemirror_mode": {
    "name": "ipython",
    "version": 3
   },
   "file_extension": ".py",
   "mimetype": "text/x-python",
   "name": "python",
   "nbconvert_exporter": "python",
   "pygments_lexer": "ipython3",
   "version": "3.6.5"
  }
 },
 "nbformat": 4,
 "nbformat_minor": 2
}
